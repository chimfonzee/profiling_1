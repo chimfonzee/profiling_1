{
 "cells": [
  {
   "cell_type": "code",
   "execution_count": 2,
   "metadata": {},
   "outputs": [
    {
     "name": "stderr",
     "output_type": "stream",
     "text": [
      "2023-02-12 21:18:35.846803: I tensorflow/core/platform/cpu_feature_guard.cc:193] This TensorFlow binary is optimized with oneAPI Deep Neural Network Library (oneDNN) to use the following CPU instructions in performance-critical operations:  AVX2 AVX512F AVX512_VNNI FMA\n",
      "To enable them in other operations, rebuild TensorFlow with the appropriate compiler flags.\n",
      "2023-02-12 21:18:38.200705: I tensorflow/core/util/port.cc:104] oneDNN custom operations are on. You may see slightly different numerical results due to floating-point round-off errors from different computation orders. To turn them off, set the environment variable `TF_ENABLE_ONEDNN_OPTS=0`.\n",
      "2023-02-12 21:18:48.971124: W tensorflow/compiler/xla/stream_executor/platform/default/dso_loader.cc:64] Could not load dynamic library 'libnvinfer.so.7'; dlerror: libnvinfer.so.7: cannot open shared object file: No such file or directory; LD_LIBRARY_PATH: /usr/local/cuda/include:/usr/local/cuda/lib64::/usr/local/cuda/extras/CUPTI/lib64\n",
      "2023-02-12 21:18:48.972901: W tensorflow/compiler/xla/stream_executor/platform/default/dso_loader.cc:64] Could not load dynamic library 'libnvinfer_plugin.so.7'; dlerror: libnvinfer_plugin.so.7: cannot open shared object file: No such file or directory; LD_LIBRARY_PATH: /usr/local/cuda/include:/usr/local/cuda/lib64::/usr/local/cuda/extras/CUPTI/lib64\n",
      "2023-02-12 21:18:48.972953: W tensorflow/compiler/tf2tensorrt/utils/py_utils.cc:38] TF-TRT Warning: Cannot dlopen some TensorRT libraries. If you would like to use Nvidia GPU with TensorRT, please make sure the missing libraries mentioned above are installed properly.\n"
     ]
    }
   ],
   "source": [
    "\n",
    "from keras.layers import LSTM, Dropout, Dense"
   ]
  },
  {
   "cell_type": "code",
   "execution_count": 3,
   "metadata": {},
   "outputs": [
    {
     "name": "stderr",
     "output_type": "stream",
     "text": [
      "2023-02-12 21:18:55.642351: I tensorflow/compiler/xla/stream_executor/cuda/cuda_gpu_executor.cc:967] could not open file to read NUMA node: /sys/bus/pci/devices/0000:01:00.0/numa_node\n",
      "Your kernel may have been built without NUMA support.\n",
      "2023-02-12 21:18:56.385281: I tensorflow/compiler/xla/stream_executor/cuda/cuda_gpu_executor.cc:967] could not open file to read NUMA node: /sys/bus/pci/devices/0000:01:00.0/numa_node\n",
      "Your kernel may have been built without NUMA support.\n",
      "2023-02-12 21:18:56.385493: I tensorflow/compiler/xla/stream_executor/cuda/cuda_gpu_executor.cc:967] could not open file to read NUMA node: /sys/bus/pci/devices/0000:01:00.0/numa_node\n",
      "Your kernel may have been built without NUMA support.\n"
     ]
    },
    {
     "name": "stdout",
     "output_type": "stream",
     "text": [
      "1st Layer: base: 462.99MiB, peak: 465.33MiB, increment: 2.34MiB\n",
      "2nd Layer: base: 15.88MiB, peak: 18.24MiB, increment: 2.36MiB\n",
      "3rd Layer: base: 11.69MiB, peak: 15.56MiB, increment: 3.87MiB\n",
      "4th Layer: base: 13.27MiB, peak: 15.63MiB, increment: 2.36MiB\n",
      "Output Layer: base: 1.11MiB, peak: 4.79MiB, increment: 3.69MiB\n"
     ]
    },
    {
     "name": "stderr",
     "output_type": "stream",
     "text": [
      "2023-02-12 21:18:56.415007: I tensorflow/core/platform/cpu_feature_guard.cc:193] This TensorFlow binary is optimized with oneAPI Deep Neural Network Library (oneDNN) to use the following CPU instructions in performance-critical operations:  AVX2 AVX512F AVX512_VNNI FMA\n",
      "To enable them in other operations, rebuild TensorFlow with the appropriate compiler flags.\n",
      "2023-02-12 21:18:56.509869: I tensorflow/compiler/xla/stream_executor/cuda/cuda_gpu_executor.cc:967] could not open file to read NUMA node: /sys/bus/pci/devices/0000:01:00.0/numa_node\n",
      "Your kernel may have been built without NUMA support.\n",
      "2023-02-12 21:18:56.510135: I tensorflow/compiler/xla/stream_executor/cuda/cuda_gpu_executor.cc:967] could not open file to read NUMA node: /sys/bus/pci/devices/0000:01:00.0/numa_node\n",
      "Your kernel may have been built without NUMA support.\n",
      "2023-02-12 21:18:56.510172: I tensorflow/compiler/xla/stream_executor/cuda/cuda_gpu_executor.cc:967] could not open file to read NUMA node: /sys/bus/pci/devices/0000:01:00.0/numa_node\n",
      "Your kernel may have been built without NUMA support.\n",
      "2023-02-12 21:19:07.138887: I tensorflow/compiler/xla/stream_executor/cuda/cuda_gpu_executor.cc:967] could not open file to read NUMA node: /sys/bus/pci/devices/0000:01:00.0/numa_node\n",
      "Your kernel may have been built without NUMA support.\n",
      "2023-02-12 21:19:07.142449: I tensorflow/compiler/xla/stream_executor/cuda/cuda_gpu_executor.cc:967] could not open file to read NUMA node: /sys/bus/pci/devices/0000:01:00.0/numa_node\n",
      "Your kernel may have been built without NUMA support.\n",
      "2023-02-12 21:19:07.142512: I tensorflow/core/common_runtime/gpu/gpu_device.cc:1700] Could not identify NUMA node of platform GPU id 0, defaulting to 0.  Your kernel may not have been built with NUMA support.\n",
      "2023-02-12 21:19:07.142730: I tensorflow/compiler/xla/stream_executor/cuda/cuda_gpu_executor.cc:967] could not open file to read NUMA node: /sys/bus/pci/devices/0000:01:00.0/numa_node\n",
      "Your kernel may have been built without NUMA support.\n",
      "2023-02-12 21:19:07.142879: I tensorflow/core/common_runtime/gpu/gpu_device.cc:1613] Created device /job:localhost/replica:0/task:0/device:GPU:0 with 1598 MB memory:  -> device: 0, name: NVIDIA GeForce RTX 3050 Laptop GPU, pci bus id: 0000:01:00.0, compute capability: 8.6\n"
     ]
    }
   ],
   "source": [
    "import tracemalloc\n",
    "\n",
    "def mem_profile():\n",
    "    tracemalloc.start()\n",
    "    LSTM(units=50, return_sequences=True, input_shape=(60,1))\n",
    "    Dropout(0.2)\n",
    "    base, peak = tracemalloc.get_traced_memory()\n",
    "    base /= 1024 * 2\n",
    "    peak /= 1024 * 2\n",
    "    print(f'1st Layer: base: {base:.2f}MiB, peak: {peak:.2f}MiB, increment: {peak - base:.2f}MiB')\n",
    "    tracemalloc.clear_traces()\n",
    "\n",
    "    LSTM(units=50, return_sequences=True)\n",
    "    Dropout(0.2)\n",
    "    base, peak = tracemalloc.get_traced_memory()\n",
    "    base /= 1024 * 2\n",
    "    peak /= 1024 * 2\n",
    "    print(f'2nd Layer: base: {base:.2f}MiB, peak: {peak:.2f}MiB, increment: {peak - base:.2f}MiB')\n",
    "    tracemalloc.clear_traces()\n",
    "\n",
    "    LSTM(units=50, return_sequences=True)\n",
    "    Dropout(0.2)\n",
    "    base, peak = tracemalloc.get_traced_memory()\n",
    "    base /= 1024 * 2\n",
    "    peak /= 1024 * 2\n",
    "    print(f'3rd Layer: base: {base:.2f}MiB, peak: {peak:.2f}MiB, increment: {peak - base:.2f}MiB')\n",
    "    tracemalloc.clear_traces()\n",
    "\n",
    "    LSTM(units=50, return_sequences=True)\n",
    "    Dropout(0.2)\n",
    "    base, peak = tracemalloc.get_traced_memory()\n",
    "    base /= 1024 * 2\n",
    "    peak /= 1024 * 2\n",
    "    print(f'4th Layer: base: {base:.2f}MiB, peak: {peak:.2f}MiB, increment: {peak - base:.2f}MiB')\n",
    "    tracemalloc.clear_traces()\n",
    "\n",
    "    Dense(units=1)\n",
    "    base, peak = tracemalloc.get_traced_memory()\n",
    "    base /= 1024 * 2\n",
    "    peak /= 1024 * 2\n",
    "    print(f'Output Layer: base: {base:.2f}MiB, peak: {peak:.2f}MiB, increment: {peak - base:.2f}MiB')\n",
    "    tracemalloc.stop()\n",
    "\n",
    "mem_profile()\n"
   ]
  },
  {
   "cell_type": "code",
   "execution_count": 4,
   "metadata": {},
   "outputs": [],
   "source": [
    "def to_profile():\n",
    "    LSTM(units=50, return_sequences=True, input_shape=(60,1))\n",
    "    Dropout(0.2)\n",
    "\n",
    "    LSTM(units=50, return_sequences=True)\n",
    "    Dropout(0.2)\n",
    "\n",
    "    LSTM(units=50, return_sequences=True)\n",
    "    Dropout(0.2)\n",
    "\n",
    "    LSTM(units=50)\n",
    "    Dropout(0.2)\n",
    "\n",
    "    Dense(units=1)"
   ]
  },
  {
   "cell_type": "code",
   "execution_count": 5,
   "metadata": {},
   "outputs": [],
   "source": [
    "%load_ext line_profiler"
   ]
  },
  {
   "cell_type": "code",
   "execution_count": 6,
   "metadata": {},
   "outputs": [
    {
     "name": "stdout",
     "output_type": "stream",
     "text": [
      "Timer unit: 1e-06 s\n",
      "\n",
      "Total time: 0.0512123 s\n",
      "File: /tmp/ipykernel_251/814050729.py\n",
      "Function: to_profile at line 1\n",
      "\n",
      "Line #      Hits         Time  Per Hit   % Time  Line Contents\n",
      "==============================================================\n",
      "     1                                           def to_profile():\n",
      "     2         1       7773.9   7773.9     15.2      LSTM(units=50, return_sequences=True, input_shape=(60,1))\n",
      "     3         1       1134.5   1134.5      2.2      Dropout(0.2)\n",
      "     4                                           \n",
      "     5         1      15493.8  15493.8     30.3      LSTM(units=50, return_sequences=True)\n",
      "     6         1       1138.7   1138.7      2.2      Dropout(0.2)\n",
      "     7                                           \n",
      "     8         1      13835.4  13835.4     27.0      LSTM(units=50, return_sequences=True)\n",
      "     9         1       1831.5   1831.5      3.6      Dropout(0.2)\n",
      "    10                                           \n",
      "    11         1       7195.0   7195.0     14.0      LSTM(units=50)\n",
      "    12         1       1842.9   1842.9      3.6      Dropout(0.2)\n",
      "    13                                           \n",
      "    14         1        966.6    966.6      1.9      Dense(units=1)"
     ]
    }
   ],
   "source": [
    "%lprun -u 1e-06 -f to_profile to_profile()"
   ]
  }
 ],
 "metadata": {
  "kernelspec": {
   "display_name": "venv",
   "language": "python",
   "name": "python3"
  },
  "language_info": {
   "codemirror_mode": {
    "name": "ipython",
    "version": 3
   },
   "file_extension": ".py",
   "mimetype": "text/x-python",
   "name": "python",
   "nbconvert_exporter": "python",
   "pygments_lexer": "ipython3",
   "version": "3.10.6"
  },
  "orig_nbformat": 4,
  "vscode": {
   "interpreter": {
    "hash": "e80fdaf8e8623e71148aefe8a2fa032ff1dadbc0b2cb15a380fde3756a2db3ec"
   }
  }
 },
 "nbformat": 4,
 "nbformat_minor": 2
}
