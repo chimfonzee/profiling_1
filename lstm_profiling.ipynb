{
 "cells": [
  {
   "cell_type": "code",
   "execution_count": 1,
   "metadata": {},
   "outputs": [
    {
     "name": "stderr",
     "output_type": "stream",
     "text": [
      "2023-02-12 16:01:16.682940: I tensorflow/core/platform/cpu_feature_guard.cc:193] This TensorFlow binary is optimized with oneAPI Deep Neural Network Library (oneDNN) to use the following CPU instructions in performance-critical operations:  AVX2 AVX512F AVX512_VNNI FMA\n",
      "To enable them in other operations, rebuild TensorFlow with the appropriate compiler flags.\n",
      "2023-02-12 16:01:17.463498: I tensorflow/core/util/port.cc:104] oneDNN custom operations are on. You may see slightly different numerical results due to floating-point round-off errors from different computation orders. To turn them off, set the environment variable `TF_ENABLE_ONEDNN_OPTS=0`.\n",
      "2023-02-12 16:01:20.239043: W tensorflow/compiler/xla/stream_executor/platform/default/dso_loader.cc:64] Could not load dynamic library 'libnvinfer.so.7'; dlerror: libnvinfer.so.7: cannot open shared object file: No such file or directory; LD_LIBRARY_PATH: /usr/local/cuda/include:/usr/local/cuda/lib64::/usr/local/cuda/extras/CUPTI/lib64\n",
      "2023-02-12 16:01:20.239879: W tensorflow/compiler/xla/stream_executor/platform/default/dso_loader.cc:64] Could not load dynamic library 'libnvinfer_plugin.so.7'; dlerror: libnvinfer_plugin.so.7: cannot open shared object file: No such file or directory; LD_LIBRARY_PATH: /usr/local/cuda/include:/usr/local/cuda/lib64::/usr/local/cuda/extras/CUPTI/lib64\n",
      "2023-02-12 16:01:20.239896: W tensorflow/compiler/tf2tensorrt/utils/py_utils.cc:38] TF-TRT Warning: Cannot dlopen some TensorRT libraries. If you would like to use Nvidia GPU with TensorRT, please make sure the missing libraries mentioned above are installed properly.\n"
     ]
    }
   ],
   "source": [
    "\n",
    "from keras.layers import LSTM, Dropout, Dense"
   ]
  },
  {
   "cell_type": "code",
   "execution_count": 2,
   "metadata": {},
   "outputs": [
    {
     "name": "stdout",
     "output_type": "stream",
     "text": [
      "1st Layer: base: 461.50MiB, peak: 463.85MiB, increment: 2.34MiB\n",
      "2nd Layer: base: 14.46MiB, peak: 16.82MiB, increment: 2.36MiB\n",
      "3rd Layer: base: 11.78MiB, peak: 15.86MiB, increment: 4.08MiB\n",
      "4th Layer: base: 12.25MiB, peak: 15.09MiB, increment: 2.85MiB\n",
      "Output Layer: base: 1.11MiB, peak: 4.79MiB, increment: 3.69MiB\n"
     ]
    },
    {
     "name": "stderr",
     "output_type": "stream",
     "text": [
      "2023-02-12 16:01:23.339500: I tensorflow/compiler/xla/stream_executor/cuda/cuda_gpu_executor.cc:967] could not open file to read NUMA node: /sys/bus/pci/devices/0000:01:00.0/numa_node\n",
      "Your kernel may have been built without NUMA support.\n",
      "2023-02-12 16:01:23.790961: I tensorflow/compiler/xla/stream_executor/cuda/cuda_gpu_executor.cc:967] could not open file to read NUMA node: /sys/bus/pci/devices/0000:01:00.0/numa_node\n",
      "Your kernel may have been built without NUMA support.\n",
      "2023-02-12 16:01:23.791011: I tensorflow/compiler/xla/stream_executor/cuda/cuda_gpu_executor.cc:967] could not open file to read NUMA node: /sys/bus/pci/devices/0000:01:00.0/numa_node\n",
      "Your kernel may have been built without NUMA support.\n",
      "2023-02-12 16:01:23.791884: I tensorflow/core/platform/cpu_feature_guard.cc:193] This TensorFlow binary is optimized with oneAPI Deep Neural Network Library (oneDNN) to use the following CPU instructions in performance-critical operations:  AVX2 AVX512F AVX512_VNNI FMA\n",
      "To enable them in other operations, rebuild TensorFlow with the appropriate compiler flags.\n",
      "2023-02-12 16:01:23.798036: I tensorflow/compiler/xla/stream_executor/cuda/cuda_gpu_executor.cc:967] could not open file to read NUMA node: /sys/bus/pci/devices/0000:01:00.0/numa_node\n",
      "Your kernel may have been built without NUMA support.\n",
      "2023-02-12 16:01:23.798093: I tensorflow/compiler/xla/stream_executor/cuda/cuda_gpu_executor.cc:967] could not open file to read NUMA node: /sys/bus/pci/devices/0000:01:00.0/numa_node\n",
      "Your kernel may have been built without NUMA support.\n",
      "2023-02-12 16:01:23.798109: I tensorflow/compiler/xla/stream_executor/cuda/cuda_gpu_executor.cc:967] could not open file to read NUMA node: /sys/bus/pci/devices/0000:01:00.0/numa_node\n",
      "Your kernel may have been built without NUMA support.\n",
      "2023-02-12 16:01:29.355441: I tensorflow/compiler/xla/stream_executor/cuda/cuda_gpu_executor.cc:967] could not open file to read NUMA node: /sys/bus/pci/devices/0000:01:00.0/numa_node\n",
      "Your kernel may have been built without NUMA support.\n",
      "2023-02-12 16:01:29.356821: I tensorflow/compiler/xla/stream_executor/cuda/cuda_gpu_executor.cc:967] could not open file to read NUMA node: /sys/bus/pci/devices/0000:01:00.0/numa_node\n",
      "Your kernel may have been built without NUMA support.\n",
      "2023-02-12 16:01:29.356882: I tensorflow/core/common_runtime/gpu/gpu_device.cc:1700] Could not identify NUMA node of platform GPU id 0, defaulting to 0.  Your kernel may not have been built with NUMA support.\n",
      "2023-02-12 16:01:29.357183: I tensorflow/compiler/xla/stream_executor/cuda/cuda_gpu_executor.cc:967] could not open file to read NUMA node: /sys/bus/pci/devices/0000:01:00.0/numa_node\n",
      "Your kernel may have been built without NUMA support.\n",
      "2023-02-12 16:01:29.358109: I tensorflow/core/common_runtime/gpu/gpu_device.cc:1613] Created device /job:localhost/replica:0/task:0/device:GPU:0 with 1598 MB memory:  -> device: 0, name: NVIDIA GeForce RTX 3050 Laptop GPU, pci bus id: 0000:01:00.0, compute capability: 8.6\n"
     ]
    }
   ],
   "source": [
    "import tracemalloc\n",
    "\n",
    "def mem_profile():\n",
    "    tracemalloc.start()\n",
    "    LSTM(units=50, return_sequences=True, input_shape=(60,1))\n",
    "    Dropout(0.2)\n",
    "    base, peak = tracemalloc.get_traced_memory()\n",
    "    base /= 1024 * 2\n",
    "    peak /= 1024 * 2\n",
    "    print(f'1st Layer: base: {base:.2f}MiB, peak: {peak:.2f}MiB, increment: {peak - base:.2f}MiB')\n",
    "    tracemalloc.clear_traces()\n",
    "\n",
    "    LSTM(units=50, return_sequences=True)\n",
    "    Dropout(0.2)\n",
    "    base, peak = tracemalloc.get_traced_memory()\n",
    "    base /= 1024 * 2\n",
    "    peak /= 1024 * 2\n",
    "    print(f'2nd Layer: base: {base:.2f}MiB, peak: {peak:.2f}MiB, increment: {peak - base:.2f}MiB')\n",
    "    tracemalloc.clear_traces()\n",
    "\n",
    "    LSTM(units=50, return_sequences=True)\n",
    "    Dropout(0.2)\n",
    "    base, peak = tracemalloc.get_traced_memory()\n",
    "    base /= 1024 * 2\n",
    "    peak /= 1024 * 2\n",
    "    print(f'3rd Layer: base: {base:.2f}MiB, peak: {peak:.2f}MiB, increment: {peak - base:.2f}MiB')\n",
    "    tracemalloc.clear_traces()\n",
    "\n",
    "    LSTM(units=50, return_sequences=True)\n",
    "    Dropout(0.2)\n",
    "    base, peak = tracemalloc.get_traced_memory()\n",
    "    base /= 1024 * 2\n",
    "    peak /= 1024 * 2\n",
    "    print(f'4th Layer: base: {base:.2f}MiB, peak: {peak:.2f}MiB, increment: {peak - base:.2f}MiB')\n",
    "    tracemalloc.clear_traces()\n",
    "\n",
    "    Dense(units=1)\n",
    "    base, peak = tracemalloc.get_traced_memory()\n",
    "    base /= 1024 * 2\n",
    "    peak /= 1024 * 2\n",
    "    print(f'Output Layer: base: {base:.2f}MiB, peak: {peak:.2f}MiB, increment: {peak - base:.2f}MiB')\n",
    "    tracemalloc.stop()\n",
    "\n",
    "mem_profile()\n"
   ]
  },
  {
   "cell_type": "code",
   "execution_count": null,
   "metadata": {},
   "outputs": [],
   "source": [
    "def to_profile():\n",
    "    LSTM(units=50, return_sequences=True, input_shape=(60,1))\n",
    "    Dropout(0.2)\n",
    "\n",
    "    LSTM(units=50, return_sequences=True)\n",
    "    Dropout(0.2)\n",
    "\n",
    "    LSTM(units=50, return_sequences=True)\n",
    "    Dropout(0.2)\n",
    "\n",
    "    LSTM(units=50)\n",
    "    Dropout(0.2)\n",
    "\n",
    "    Dense(units=1)"
   ]
  },
  {
   "cell_type": "code",
   "execution_count": 1,
   "metadata": {},
   "outputs": [
    {
     "name": "stderr",
     "output_type": "stream",
     "text": [
      "UsageError: Missing module name.\n"
     ]
    }
   ],
   "source": [
    "%load_ext line_profiler"
   ]
  },
  {
   "cell_type": "code",
   "execution_count": null,
   "metadata": {},
   "outputs": [],
   "source": [
    "%timeit"
   ]
  }
 ],
 "metadata": {
  "kernelspec": {
   "display_name": "venv",
   "language": "python",
   "name": "python3"
  },
  "language_info": {
   "codemirror_mode": {
    "name": "ipython",
    "version": 3
   },
   "file_extension": ".py",
   "mimetype": "text/x-python",
   "name": "python",
   "nbconvert_exporter": "python",
   "pygments_lexer": "ipython3",
   "version": "3.10.6"
  },
  "orig_nbformat": 4,
  "vscode": {
   "interpreter": {
    "hash": "e80fdaf8e8623e71148aefe8a2fa032ff1dadbc0b2cb15a380fde3756a2db3ec"
   }
  }
 },
 "nbformat": 4,
 "nbformat_minor": 2
}
