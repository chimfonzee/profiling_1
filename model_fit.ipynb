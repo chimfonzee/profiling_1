{
 "cells": [
  {
   "cell_type": "code",
   "execution_count": 1,
   "metadata": {},
   "outputs": [
    {
     "name": "stderr",
     "output_type": "stream",
     "text": [
      "2023-02-11 01:36:16.402793: I tensorflow/core/platform/cpu_feature_guard.cc:193] This TensorFlow binary is optimized with oneAPI Deep Neural Network Library (oneDNN) to use the following CPU instructions in performance-critical operations:  AVX2 AVX512F AVX512_VNNI FMA\n",
      "To enable them in other operations, rebuild TensorFlow with the appropriate compiler flags.\n",
      "2023-02-11 01:36:18.063291: I tensorflow/core/util/port.cc:104] oneDNN custom operations are on. You may see slightly different numerical results due to floating-point round-off errors from different computation orders. To turn them off, set the environment variable `TF_ENABLE_ONEDNN_OPTS=0`.\n",
      "2023-02-11 01:36:20.704439: W tensorflow/compiler/xla/stream_executor/platform/default/dso_loader.cc:64] Could not load dynamic library 'libnvinfer.so.7'; dlerror: libnvinfer.so.7: cannot open shared object file: No such file or directory; LD_LIBRARY_PATH: /usr/local/cuda/include:/usr/local/cuda/lib64::/usr/local/cuda/extras/CUPTI/lib64\n",
      "2023-02-11 01:36:20.704598: W tensorflow/compiler/xla/stream_executor/platform/default/dso_loader.cc:64] Could not load dynamic library 'libnvinfer_plugin.so.7'; dlerror: libnvinfer_plugin.so.7: cannot open shared object file: No such file or directory; LD_LIBRARY_PATH: /usr/local/cuda/include:/usr/local/cuda/lib64::/usr/local/cuda/extras/CUPTI/lib64\n",
      "2023-02-11 01:36:20.704607: W tensorflow/compiler/tf2tensorrt/utils/py_utils.cc:38] TF-TRT Warning: Cannot dlopen some TensorRT libraries. If you would like to use Nvidia GPU with TensorRT, please make sure the missing libraries mentioned above are installed properly.\n"
     ]
    }
   ],
   "source": [
    "import pandas as pd\n",
    "import numpy as np\n",
    "\n",
    "from keras.models import Sequential\n",
    "from keras.layers import Conv2D, MaxPooling2D, Dense, Flatten, Dropout\n",
    "from keras.optimizers import Adam\n",
    "\n",
    "from sklearn.model_selection import train_test_split"
   ]
  },
  {
   "cell_type": "code",
   "execution_count": 2,
   "metadata": {},
   "outputs": [],
   "source": [
    "train_df = pd.read_csv('input/fashion-mnist_train.csv',sep=',')\n",
    "test_df = pd.read_csv('input/fashion-mnist_test.csv', sep=',')\n",
    "train_data = np.array(train_df, dtype='float32')\n",
    "test_data = np.array(test_df, dtype='float32')\n",
    "x_train = train_data[:50, 1:]/255\n",
    "y_train = train_data[:50, 0]\n",
    "x_test = test_data[:15, 1:]/255\n",
    "y_test = test_data[:15, 0] "
   ]
  },
  {
   "cell_type": "code",
   "execution_count": 3,
   "metadata": {},
   "outputs": [],
   "source": [
    "x_train, x_validate, y_train, y_validate = train_test_split(x_train, y_train, test_size=0.2, random_state=12345)\n",
    "image_rows = 28\n",
    "image_cols = 28\n",
    "batch_size = 512\n",
    "image_shape = (image_rows, image_cols, 1)"
   ]
  },
  {
   "cell_type": "code",
   "execution_count": 4,
   "metadata": {},
   "outputs": [
    {
     "name": "stdout",
     "output_type": "stream",
     "text": [
      "x_train shape = (40, 28, 28, 1)\n",
      "x_test shape = (15, 28, 28, 1)\n",
      "x_validate shape = (10, 28, 28, 1)\n"
     ]
    }
   ],
   "source": [
    "x_train = x_train.reshape(x_train.shape[0], *image_shape)\n",
    "x_test = x_test.reshape(x_test.shape[0], *image_shape)\n",
    "x_validate = x_validate.reshape(x_validate.shape[0], *image_shape)\n",
    "\n",
    "print(\"x_train shape = {}\".format(x_train.shape))\n",
    "print(\"x_test shape = {}\".format(x_test.shape))\n",
    "print(\"x_validate shape = {}\".format(x_validate.shape))"
   ]
  },
  {
   "cell_type": "code",
   "execution_count": 5,
   "metadata": {},
   "outputs": [
    {
     "name": "stderr",
     "output_type": "stream",
     "text": [
      "2023-02-11 01:36:33.771997: I tensorflow/compiler/xla/stream_executor/cuda/cuda_gpu_executor.cc:967] could not open file to read NUMA node: /sys/bus/pci/devices/0000:01:00.0/numa_node\n",
      "Your kernel may have been built without NUMA support.\n",
      "2023-02-11 01:36:34.159868: I tensorflow/compiler/xla/stream_executor/cuda/cuda_gpu_executor.cc:967] could not open file to read NUMA node: /sys/bus/pci/devices/0000:01:00.0/numa_node\n",
      "Your kernel may have been built without NUMA support.\n",
      "2023-02-11 01:36:34.160343: I tensorflow/compiler/xla/stream_executor/cuda/cuda_gpu_executor.cc:967] could not open file to read NUMA node: /sys/bus/pci/devices/0000:01:00.0/numa_node\n",
      "Your kernel may have been built without NUMA support.\n",
      "2023-02-11 01:36:34.165616: I tensorflow/core/platform/cpu_feature_guard.cc:193] This TensorFlow binary is optimized with oneAPI Deep Neural Network Library (oneDNN) to use the following CPU instructions in performance-critical operations:  AVX2 AVX512F AVX512_VNNI FMA\n",
      "To enable them in other operations, rebuild TensorFlow with the appropriate compiler flags.\n",
      "2023-02-11 01:36:34.173057: I tensorflow/compiler/xla/stream_executor/cuda/cuda_gpu_executor.cc:967] could not open file to read NUMA node: /sys/bus/pci/devices/0000:01:00.0/numa_node\n",
      "Your kernel may have been built without NUMA support.\n",
      "2023-02-11 01:36:34.173286: I tensorflow/compiler/xla/stream_executor/cuda/cuda_gpu_executor.cc:967] could not open file to read NUMA node: /sys/bus/pci/devices/0000:01:00.0/numa_node\n",
      "Your kernel may have been built without NUMA support.\n",
      "2023-02-11 01:36:34.173318: I tensorflow/compiler/xla/stream_executor/cuda/cuda_gpu_executor.cc:967] could not open file to read NUMA node: /sys/bus/pci/devices/0000:01:00.0/numa_node\n",
      "Your kernel may have been built without NUMA support.\n",
      "2023-02-11 01:36:39.054778: I tensorflow/compiler/xla/stream_executor/cuda/cuda_gpu_executor.cc:967] could not open file to read NUMA node: /sys/bus/pci/devices/0000:01:00.0/numa_node\n",
      "Your kernel may have been built without NUMA support.\n",
      "2023-02-11 01:36:39.055817: I tensorflow/compiler/xla/stream_executor/cuda/cuda_gpu_executor.cc:967] could not open file to read NUMA node: /sys/bus/pci/devices/0000:01:00.0/numa_node\n",
      "Your kernel may have been built without NUMA support.\n",
      "2023-02-11 01:36:39.055851: I tensorflow/core/common_runtime/gpu/gpu_device.cc:1700] Could not identify NUMA node of platform GPU id 0, defaulting to 0.  Your kernel may not have been built with NUMA support.\n",
      "2023-02-11 01:36:39.055953: I tensorflow/compiler/xla/stream_executor/cuda/cuda_gpu_executor.cc:967] could not open file to read NUMA node: /sys/bus/pci/devices/0000:01:00.0/numa_node\n",
      "Your kernel may have been built without NUMA support.\n",
      "2023-02-11 01:36:39.056217: I tensorflow/core/common_runtime/gpu/gpu_device.cc:1613] Created device /job:localhost/replica:0/task:0/device:GPU:0 with 1598 MB memory:  -> device: 0, name: NVIDIA GeForce RTX 3050 Laptop GPU, pci bus id: 0000:01:00.0, compute capability: 8.6\n"
     ]
    }
   ],
   "source": [
    "name='3_layer'\n",
    "cnn_model_3 = Sequential([\n",
    "    Conv2D(32, kernel_size=3, activation='relu', \n",
    "           input_shape=image_shape, kernel_initializer='he_normal', name='Conv2D-1'),\n",
    "    MaxPooling2D(pool_size=2, name='MaxPool'),\n",
    "    Dropout(0.25, name='Dropout-1'),\n",
    "    Conv2D(64, kernel_size=3, activation='relu', name='Conv2D-2'),\n",
    "    Dropout(0.25, name='Dropout-2'),\n",
    "    Conv2D(128, kernel_size=3, activation='relu', name='Conv2D-3'),\n",
    "    Dropout(0.4, name='Dropout-3'),\n",
    "    Flatten(name='flatten'),\n",
    "    Dense(128, activation='relu', name='Dense'),\n",
    "    Dropout(0.4, name='Dropout'),\n",
    "    Dense(10, activation='softmax', name='Output')\n",
    "], name=name)"
   ]
  },
  {
   "cell_type": "code",
   "execution_count": 6,
   "metadata": {},
   "outputs": [],
   "source": [
    "cnn_model_3.compile(\n",
    "    loss='sparse_categorical_crossentropy',\n",
    "    optimizer=Adam(),\n",
    "    metrics=['accuracy']\n",
    ")"
   ]
  },
  {
   "attachments": {},
   "cell_type": "markdown",
   "metadata": {},
   "source": [
    "# Use the code below to run the fit() function of the model\n",
    "Run nvidia-smi before running the cell below"
   ]
  },
  {
   "cell_type": "code",
   "execution_count": 7,
   "metadata": {},
   "outputs": [
    {
     "name": "stdout",
     "output_type": "stream",
     "text": [
      "Epoch 1/50\n"
     ]
    },
    {
     "name": "stderr",
     "output_type": "stream",
     "text": [
      "2023-02-11 01:36:41.565198: E tensorflow/core/grappler/optimizers/meta_optimizer.cc:954] layout failed: INVALID_ARGUMENT: Size of values 0 does not match size of permutation 4 @ fanin shape in3_layer/Dropout-1/dropout/SelectV2-2-TransposeNHWCToNCHW-LayoutOptimizer\n",
      "2023-02-11 01:36:52.452195: I tensorflow/compiler/xla/stream_executor/cuda/cuda_dnn.cc:428] Loaded cuDNN version 8700\n",
      "2023-02-11 01:36:59.798859: I tensorflow/tsl/platform/default/subprocess.cc:304] Start cannot spawn child process: No such file or directory\n",
      "2023-02-11 01:37:00.697171: I tensorflow/compiler/xla/stream_executor/cuda/cuda_blas.cc:630] TensorFloat-32 will be used for the matrix multiplication. This will only be logged once.\n"
     ]
    },
    {
     "name": "stdout",
     "output_type": "stream",
     "text": [
      "1/1 [==============================] - 24s 24s/step - loss: 2.3655 - accuracy: 0.1250 - val_loss: 2.7595 - val_accuracy: 0.2000\n",
      "Epoch 2/50\n",
      "1/1 [==============================] - 0s 114ms/step - loss: 2.8128 - accuracy: 0.2250 - val_loss: 2.4837 - val_accuracy: 0.2000\n",
      "Epoch 3/50\n",
      "1/1 [==============================] - 0s 130ms/step - loss: 2.1784 - accuracy: 0.1750 - val_loss: 2.4618 - val_accuracy: 0.3000\n",
      "Epoch 4/50\n",
      "1/1 [==============================] - 0s 141ms/step - loss: 2.0830 - accuracy: 0.2750 - val_loss: 2.4422 - val_accuracy: 0.2000\n",
      "Epoch 5/50\n",
      "1/1 [==============================] - 0s 93ms/step - loss: 1.9668 - accuracy: 0.3250 - val_loss: 2.4002 - val_accuracy: 0.1000\n",
      "Epoch 6/50\n",
      "1/1 [==============================] - 0s 99ms/step - loss: 1.8982 - accuracy: 0.3500 - val_loss: 2.3588 - val_accuracy: 0.1000\n",
      "Epoch 7/50\n",
      "1/1 [==============================] - 0s 86ms/step - loss: 1.7739 - accuracy: 0.3750 - val_loss: 2.3337 - val_accuracy: 0.3000\n",
      "Epoch 8/50\n",
      "1/1 [==============================] - 0s 106ms/step - loss: 1.8547 - accuracy: 0.4500 - val_loss: 2.3079 - val_accuracy: 0.3000\n",
      "Epoch 9/50\n",
      "1/1 [==============================] - 0s 115ms/step - loss: 1.6211 - accuracy: 0.4500 - val_loss: 2.2875 - val_accuracy: 0.3000\n",
      "Epoch 10/50\n",
      "1/1 [==============================] - 0s 132ms/step - loss: 1.6345 - accuracy: 0.3500 - val_loss: 2.2556 - val_accuracy: 0.2000\n",
      "Epoch 11/50\n",
      "1/1 [==============================] - 0s 103ms/step - loss: 1.6309 - accuracy: 0.4750 - val_loss: 2.2194 - val_accuracy: 0.2000\n",
      "Epoch 12/50\n",
      "1/1 [==============================] - 0s 91ms/step - loss: 1.5096 - accuracy: 0.4500 - val_loss: 2.2053 - val_accuracy: 0.3000\n",
      "Epoch 13/50\n",
      "1/1 [==============================] - 0s 84ms/step - loss: 1.5051 - accuracy: 0.4750 - val_loss: 2.1862 - val_accuracy: 0.5000\n",
      "Epoch 14/50\n",
      "1/1 [==============================] - 0s 115ms/step - loss: 1.2999 - accuracy: 0.5250 - val_loss: 2.1545 - val_accuracy: 0.5000\n",
      "Epoch 15/50\n",
      "1/1 [==============================] - 0s 99ms/step - loss: 1.2669 - accuracy: 0.6250 - val_loss: 2.1291 - val_accuracy: 0.5000\n",
      "Epoch 16/50\n",
      "1/1 [==============================] - 0s 94ms/step - loss: 1.3290 - accuracy: 0.5250 - val_loss: 2.1033 - val_accuracy: 0.4000\n",
      "Epoch 17/50\n",
      "1/1 [==============================] - 0s 143ms/step - loss: 1.2033 - accuracy: 0.5250 - val_loss: 2.0703 - val_accuracy: 0.5000\n",
      "Epoch 18/50\n",
      "1/1 [==============================] - 0s 110ms/step - loss: 1.0574 - accuracy: 0.6500 - val_loss: 1.9913 - val_accuracy: 0.6000\n",
      "Epoch 19/50\n",
      "1/1 [==============================] - 0s 116ms/step - loss: 0.9953 - accuracy: 0.6500 - val_loss: 1.9876 - val_accuracy: 0.6000\n",
      "Epoch 20/50\n",
      "1/1 [==============================] - 0s 122ms/step - loss: 0.9939 - accuracy: 0.5750 - val_loss: 2.0445 - val_accuracy: 0.5000\n",
      "Epoch 21/50\n",
      "1/1 [==============================] - 0s 116ms/step - loss: 0.8990 - accuracy: 0.7000 - val_loss: 2.1028 - val_accuracy: 0.5000\n",
      "Epoch 22/50\n",
      "1/1 [==============================] - 0s 127ms/step - loss: 0.7583 - accuracy: 0.7500 - val_loss: 2.1887 - val_accuracy: 0.5000\n",
      "Epoch 23/50\n",
      "1/1 [==============================] - 0s 147ms/step - loss: 0.8294 - accuracy: 0.7000 - val_loss: 2.2400 - val_accuracy: 0.4000\n",
      "Epoch 24/50\n",
      "1/1 [==============================] - 0s 165ms/step - loss: 0.7321 - accuracy: 0.7500 - val_loss: 2.2218 - val_accuracy: 0.4000\n",
      "Epoch 25/50\n",
      "1/1 [==============================] - 0s 132ms/step - loss: 0.6169 - accuracy: 0.7250 - val_loss: 2.1899 - val_accuracy: 0.4000\n",
      "Epoch 26/50\n",
      "1/1 [==============================] - 0s 136ms/step - loss: 0.6304 - accuracy: 0.7000 - val_loss: 2.0749 - val_accuracy: 0.5000\n",
      "Epoch 27/50\n",
      "1/1 [==============================] - 0s 164ms/step - loss: 0.4450 - accuracy: 0.9000 - val_loss: 1.9533 - val_accuracy: 0.5000\n",
      "Epoch 28/50\n",
      "1/1 [==============================] - 0s 170ms/step - loss: 0.6331 - accuracy: 0.8000 - val_loss: 1.9187 - val_accuracy: 0.5000\n",
      "Epoch 29/50\n",
      "1/1 [==============================] - 0s 143ms/step - loss: 0.4895 - accuracy: 0.8250 - val_loss: 2.0134 - val_accuracy: 0.5000\n",
      "Epoch 30/50\n",
      "1/1 [==============================] - 0s 158ms/step - loss: 0.4015 - accuracy: 0.8500 - val_loss: 2.0648 - val_accuracy: 0.5000\n",
      "Epoch 31/50\n",
      "1/1 [==============================] - 0s 151ms/step - loss: 0.4314 - accuracy: 0.8500 - val_loss: 2.0179 - val_accuracy: 0.5000\n",
      "Epoch 32/50\n",
      "1/1 [==============================] - 0s 158ms/step - loss: 0.4039 - accuracy: 0.8250 - val_loss: 1.8963 - val_accuracy: 0.5000\n",
      "Epoch 33/50\n",
      "1/1 [==============================] - 0s 166ms/step - loss: 0.4878 - accuracy: 0.8750 - val_loss: 1.6733 - val_accuracy: 0.5000\n",
      "Epoch 34/50\n",
      "1/1 [==============================] - 0s 118ms/step - loss: 0.3315 - accuracy: 0.8500 - val_loss: 1.6432 - val_accuracy: 0.4000\n",
      "Epoch 35/50\n",
      "1/1 [==============================] - 0s 125ms/step - loss: 0.3910 - accuracy: 0.8250 - val_loss: 1.7351 - val_accuracy: 0.4000\n",
      "Epoch 36/50\n",
      "1/1 [==============================] - 0s 131ms/step - loss: 0.1630 - accuracy: 0.9500 - val_loss: 1.7850 - val_accuracy: 0.4000\n",
      "Epoch 37/50\n",
      "1/1 [==============================] - 0s 129ms/step - loss: 0.3186 - accuracy: 0.9000 - val_loss: 1.9100 - val_accuracy: 0.4000\n",
      "Epoch 38/50\n",
      "1/1 [==============================] - 0s 122ms/step - loss: 0.1765 - accuracy: 0.9750 - val_loss: 2.1197 - val_accuracy: 0.4000\n",
      "Epoch 39/50\n",
      "1/1 [==============================] - 0s 126ms/step - loss: 0.2805 - accuracy: 0.9000 - val_loss: 2.3071 - val_accuracy: 0.4000\n",
      "Epoch 40/50\n",
      "1/1 [==============================] - 0s 137ms/step - loss: 0.3667 - accuracy: 0.9250 - val_loss: 2.4693 - val_accuracy: 0.4000\n",
      "Epoch 41/50\n",
      "1/1 [==============================] - 0s 119ms/step - loss: 0.3539 - accuracy: 0.8000 - val_loss: 2.6634 - val_accuracy: 0.4000\n",
      "Epoch 42/50\n",
      "1/1 [==============================] - 0s 117ms/step - loss: 0.2188 - accuracy: 0.9500 - val_loss: 2.8658 - val_accuracy: 0.4000\n",
      "Epoch 43/50\n",
      "1/1 [==============================] - 0s 134ms/step - loss: 0.1746 - accuracy: 0.9750 - val_loss: 3.0284 - val_accuracy: 0.4000\n",
      "Epoch 44/50\n",
      "1/1 [==============================] - 0s 109ms/step - loss: 0.2546 - accuracy: 0.9000 - val_loss: 3.1379 - val_accuracy: 0.3000\n",
      "Epoch 45/50\n",
      "1/1 [==============================] - 0s 125ms/step - loss: 0.1635 - accuracy: 0.9250 - val_loss: 3.1946 - val_accuracy: 0.3000\n",
      "Epoch 46/50\n",
      "1/1 [==============================] - 0s 121ms/step - loss: 0.1981 - accuracy: 0.9250 - val_loss: 3.4521 - val_accuracy: 0.3000\n",
      "Epoch 47/50\n",
      "1/1 [==============================] - 0s 122ms/step - loss: 0.1749 - accuracy: 0.9250 - val_loss: 3.5031 - val_accuracy: 0.4000\n",
      "Epoch 48/50\n",
      "1/1 [==============================] - 0s 121ms/step - loss: 0.2312 - accuracy: 0.9250 - val_loss: 3.5763 - val_accuracy: 0.4000\n",
      "Epoch 49/50\n",
      "1/1 [==============================] - 0s 114ms/step - loss: 0.1102 - accuracy: 0.9500 - val_loss: 3.5550 - val_accuracy: 0.4000\n",
      "Epoch 50/50\n",
      "1/1 [==============================] - 0s 131ms/step - loss: 0.1644 - accuracy: 0.9250 - val_loss: 3.5189 - val_accuracy: 0.4000\n"
     ]
    }
   ],
   "source": [
    "history = cnn_model_3.fit(\n",
    "    x_train, y_train,\n",
    "    batch_size=batch_size,\n",
    "    epochs=50, verbose=1,\n",
    "    validation_data=(x_validate, y_validate)\n",
    ")"
   ]
  }
 ],
 "metadata": {
  "kernelspec": {
   "display_name": "venv",
   "language": "python",
   "name": "python3"
  },
  "language_info": {
   "codemirror_mode": {
    "name": "ipython",
    "version": 3
   },
   "file_extension": ".py",
   "mimetype": "text/x-python",
   "name": "python",
   "nbconvert_exporter": "python",
   "pygments_lexer": "ipython3",
   "version": "3.10.6"
  },
  "orig_nbformat": 4,
  "vscode": {
   "interpreter": {
    "hash": "e80fdaf8e8623e71148aefe8a2fa032ff1dadbc0b2cb15a380fde3756a2db3ec"
   }
  }
 },
 "nbformat": 4,
 "nbformat_minor": 2
}
