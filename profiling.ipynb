{
 "cells": [
  {
   "cell_type": "code",
   "execution_count": 2,
   "metadata": {},
   "outputs": [
    {
     "name": "stderr",
     "output_type": "stream",
     "text": [
      "2023-02-10 00:40:27.494468: I tensorflow/core/platform/cpu_feature_guard.cc:193] This TensorFlow binary is optimized with oneAPI Deep Neural Network Library (oneDNN) to use the following CPU instructions in performance-critical operations:  AVX2 AVX512F AVX512_VNNI FMA\n",
      "To enable them in other operations, rebuild TensorFlow with the appropriate compiler flags.\n",
      "2023-02-10 00:40:27.668014: I tensorflow/core/util/port.cc:104] oneDNN custom operations are on. You may see slightly different numerical results due to floating-point round-off errors from different computation orders. To turn them off, set the environment variable `TF_ENABLE_ONEDNN_OPTS=0`.\n",
      "2023-02-10 00:40:28.706795: W tensorflow/compiler/xla/stream_executor/platform/default/dso_loader.cc:64] Could not load dynamic library 'libnvinfer.so.7'; dlerror: libnvinfer.so.7: cannot open shared object file: No such file or directory; LD_LIBRARY_PATH: /usr/local/cuda/include:/usr/local/cuda/lib64::/usr/local/cuda/extras/CUPTI/lib64\n",
      "2023-02-10 00:40:28.706956: W tensorflow/compiler/xla/stream_executor/platform/default/dso_loader.cc:64] Could not load dynamic library 'libnvinfer_plugin.so.7'; dlerror: libnvinfer_plugin.so.7: cannot open shared object file: No such file or directory; LD_LIBRARY_PATH: /usr/local/cuda/include:/usr/local/cuda/lib64::/usr/local/cuda/extras/CUPTI/lib64\n",
      "2023-02-10 00:40:28.706964: W tensorflow/compiler/tf2tensorrt/utils/py_utils.cc:38] TF-TRT Warning: Cannot dlopen some TensorRT libraries. If you would like to use Nvidia GPU with TensorRT, please make sure the missing libraries mentioned above are installed properly.\n"
     ]
    }
   ],
   "source": [
    "import keras\n",
    "import pandas as pd\n",
    "import numpy as np\n",
    "\n",
    "from keras.models import Sequential\n",
    "from keras.layers import Conv2D, MaxPooling2D, Dense, Flatten, Dropout\n",
    "from keras.optimizers import Adam\n",
    "from keras.callbacks import TensorBoard\n",
    "\n",
    "from sklearn.model_selection import train_test_split"
   ]
  },
  {
   "cell_type": "code",
   "execution_count": 3,
   "metadata": {},
   "outputs": [],
   "source": [
    "train_df = pd.read_csv('input/fashion-mnist_train.csv',sep=',')\n",
    "test_df = pd.read_csv('input/fashion-mnist_test.csv', sep=',')\n",
    "train_data = np.array(train_df, dtype = 'float32')\n",
    "test_data = np.array(test_df, dtype='float32')\n",
    "x_train = train_data[:50,1:]/255\n",
    "y_train = train_data[:50,0]\n",
    "x_test= test_data[:15,1:]/255\n",
    "y_test=test_data[:15,0] "
   ]
  },
  {
   "cell_type": "code",
   "execution_count": 4,
   "metadata": {},
   "outputs": [
    {
     "name": "stdout",
     "output_type": "stream",
     "text": [
      "(28, 28, 1)\n"
     ]
    }
   ],
   "source": [
    "x_train,x_validate,y_train,y_validate = train_test_split(x_train,y_train,test_size = 0.2,random_state = 12345)\n",
    "image_rows = 28\n",
    "image_cols = 28\n",
    "batch_size = 512\n",
    "image_shape = (image_rows,image_cols,1)"
   ]
  },
  {
   "cell_type": "code",
   "execution_count": 4,
   "metadata": {},
   "outputs": [
    {
     "name": "stdout",
     "output_type": "stream",
     "text": [
      "x_train shape = (40, 28, 28, 1)\n",
      "x_test shape = (15, 28, 28, 1)\n",
      "x_validate shape = (10, 28, 28, 1)\n"
     ]
    }
   ],
   "source": [
    "x_train = x_train.reshape(x_train.shape[0],*image_shape)\n",
    "x_test = x_test.reshape(x_test.shape[0],*image_shape)\n",
    "x_validate = x_validate.reshape(x_validate.shape[0],*image_shape)\n",
    "\n",
    "print(\"x_train shape = {}\".format(x_train.shape))\n",
    "print(\"x_test shape = {}\".format(x_test.shape))\n",
    "print(\"x_validate shape = {}\".format(x_validate.shape))"
   ]
  },
  {
   "cell_type": "code",
   "execution_count": 5,
   "metadata": {},
   "outputs": [
    {
     "name": "stderr",
     "output_type": "stream",
     "text": [
      "2023-02-09 23:54:52.096727: I tensorflow/compiler/xla/stream_executor/cuda/cuda_gpu_executor.cc:967] could not open file to read NUMA node: /sys/bus/pci/devices/0000:01:00.0/numa_node\n",
      "Your kernel may have been built without NUMA support.\n",
      "2023-02-09 23:54:52.628903: I tensorflow/compiler/xla/stream_executor/cuda/cuda_gpu_executor.cc:967] could not open file to read NUMA node: /sys/bus/pci/devices/0000:01:00.0/numa_node\n",
      "Your kernel may have been built without NUMA support.\n",
      "2023-02-09 23:54:52.629046: I tensorflow/compiler/xla/stream_executor/cuda/cuda_gpu_executor.cc:967] could not open file to read NUMA node: /sys/bus/pci/devices/0000:01:00.0/numa_node\n",
      "Your kernel may have been built without NUMA support.\n",
      "2023-02-09 23:54:52.633320: I tensorflow/core/platform/cpu_feature_guard.cc:193] This TensorFlow binary is optimized with oneAPI Deep Neural Network Library (oneDNN) to use the following CPU instructions in performance-critical operations:  AVX2 AVX512F AVX512_VNNI FMA\n",
      "To enable them in other operations, rebuild TensorFlow with the appropriate compiler flags.\n",
      "2023-02-09 23:54:52.644160: I tensorflow/compiler/xla/stream_executor/cuda/cuda_gpu_executor.cc:967] could not open file to read NUMA node: /sys/bus/pci/devices/0000:01:00.0/numa_node\n",
      "Your kernel may have been built without NUMA support.\n",
      "2023-02-09 23:54:52.646033: I tensorflow/compiler/xla/stream_executor/cuda/cuda_gpu_executor.cc:967] could not open file to read NUMA node: /sys/bus/pci/devices/0000:01:00.0/numa_node\n",
      "Your kernel may have been built without NUMA support.\n",
      "2023-02-09 23:54:52.646093: I tensorflow/compiler/xla/stream_executor/cuda/cuda_gpu_executor.cc:967] could not open file to read NUMA node: /sys/bus/pci/devices/0000:01:00.0/numa_node\n",
      "Your kernel may have been built without NUMA support.\n",
      "2023-02-09 23:54:55.160867: I tensorflow/compiler/xla/stream_executor/cuda/cuda_gpu_executor.cc:967] could not open file to read NUMA node: /sys/bus/pci/devices/0000:01:00.0/numa_node\n",
      "Your kernel may have been built without NUMA support.\n",
      "2023-02-09 23:54:55.162062: I tensorflow/compiler/xla/stream_executor/cuda/cuda_gpu_executor.cc:967] could not open file to read NUMA node: /sys/bus/pci/devices/0000:01:00.0/numa_node\n",
      "Your kernel may have been built without NUMA support.\n",
      "2023-02-09 23:54:55.162094: I tensorflow/core/common_runtime/gpu/gpu_device.cc:1700] Could not identify NUMA node of platform GPU id 0, defaulting to 0.  Your kernel may not have been built with NUMA support.\n",
      "2023-02-09 23:54:55.162306: I tensorflow/compiler/xla/stream_executor/cuda/cuda_gpu_executor.cc:967] could not open file to read NUMA node: /sys/bus/pci/devices/0000:01:00.0/numa_node\n",
      "Your kernel may have been built without NUMA support.\n",
      "2023-02-09 23:54:55.162818: I tensorflow/core/common_runtime/gpu/gpu_device.cc:1613] Created device /job:localhost/replica:0/task:0/device:GPU:0 with 1598 MB memory:  -> device: 0, name: NVIDIA GeForce RTX 3050 Laptop GPU, pci bus id: 0000:01:00.0, compute capability: 8.6\n"
     ]
    }
   ],
   "source": [
    "name='3_layer'\n",
    "cnn_model_3 = Sequential([\n",
    "    Conv2D(32, kernel_size=3, activation='relu', \n",
    "           input_shape=image_shape, kernel_initializer='he_normal', name='Conv2D-1'),\n",
    "    MaxPooling2D(pool_size=2, name='MaxPool'),\n",
    "    Dropout(0.25, name='Dropout-1'),\n",
    "    Conv2D(64, kernel_size=3, activation='relu', name='Conv2D-2'),\n",
    "    Dropout(0.25, name='Dropout-2'),\n",
    "    Conv2D(128, kernel_size=3, activation='relu', name='Conv2D-3'),\n",
    "    Dropout(0.4, name='Dropout-3'),\n",
    "    Flatten(name='flatten'),\n",
    "    Dense(128, activation='relu', name='Dense'),\n",
    "    Dropout(0.4, name='Dropout'),\n",
    "    Dense(10, activation='softmax', name='Output')\n",
    "], name=name)"
   ]
  },
  {
   "cell_type": "code",
   "execution_count": 7,
   "metadata": {},
   "outputs": [
    {
     "name": "stdout",
     "output_type": "stream",
     "text": [
      "Epoch 1/50\n"
     ]
    },
    {
     "name": "stderr",
     "output_type": "stream",
     "text": [
      "2023-02-09 23:51:25.302816: E tensorflow/core/grappler/optimizers/meta_optimizer.cc:954] layout failed: INVALID_ARGUMENT: Size of values 0 does not match size of permutation 4 @ fanin shape in3_layer/Dropout-1/dropout/SelectV2-2-TransposeNHWCToNCHW-LayoutOptimizer\n",
      "2023-02-09 23:51:34.403031: I tensorflow/compiler/xla/stream_executor/cuda/cuda_dnn.cc:428] Loaded cuDNN version 8700\n"
     ]
    },
    {
     "ename": "",
     "evalue": "",
     "output_type": "error",
     "traceback": [
      "\u001b[1;31mCanceled future for execute_request message before replies were done"
     ]
    },
    {
     "ename": "",
     "evalue": "",
     "output_type": "error",
     "traceback": [
      "\u001b[1;31mThe Kernel crashed while executing code in the the current cell or a previous cell. Please review the code in the cell(s) to identify a possible cause of the failure. Click <a href='https://aka.ms/vscodeJupyterKernelCrash'>here</a> for more info. View Jupyter <a href='command:jupyter.viewOutput'>log</a> for further details."
     ]
    }
   ],
   "source": [
    "cnn_model_3.compile(\n",
    "    loss='sparse_categorical_crossentropy',\n",
    "    optimizer=Adam(),\n",
    "    metrics=['accuracy']\n",
    ")\n",
    "\n",
    "history = cnn_model_3.fit(\n",
    "    x_train, y_train,\n",
    "    batch_size=batch_size,\n",
    "    epochs=50, verbose=1,\n",
    "    validation_data=(x_validate, y_validate)\n",
    ")"
   ]
  },
  {
   "cell_type": "code",
   "execution_count": 6,
   "metadata": {},
   "outputs": [],
   "source": [
    "%load_ext line_profiler"
   ]
  },
  {
   "cell_type": "code",
   "execution_count": null,
   "metadata": {},
   "outputs": [],
   "source": [
    "# %lprun -f cnn_model_3.fit cnn_model_3.fit( x_train, y_train, batch_size=batch_size, epochs=50, verbose=1, validation_data=(x_validate, y_validate) )"
   ]
  },
  {
   "cell_type": "code",
   "execution_count": null,
   "metadata": {},
   "outputs": [
    {
     "name": "stdout",
     "output_type": "stream",
     "text": [
      "1/1 [==============================] - 1s 523ms/step\n"
     ]
    },
    {
     "data": {
      "text/plain": [
       "array([[7.50365496e-01, 3.83142789e-04, 1.08046387e-03, 6.30645314e-04,\n",
       "        4.51415777e-03, 1.10774727e-06, 2.42831320e-01, 3.03997840e-05,\n",
       "        1.37109164e-04, 2.62634221e-05],\n",
       "       [8.28639986e-06, 9.17133033e-01, 1.31098323e-05, 8.28359574e-02,\n",
       "        1.74527747e-06, 2.27995312e-08, 1.52888072e-06, 3.77593921e-07,\n",
       "        3.60398715e-08, 5.73347506e-06],\n",
       "       [1.05079236e-02, 4.53715475e-05, 6.48816407e-01, 1.80626400e-02,\n",
       "        1.32975683e-01, 2.20893955e-04, 1.50320604e-01, 3.30289756e-03,\n",
       "        3.56247015e-02, 1.22836253e-04],\n",
       "       [7.35494941e-02, 1.80058720e-07, 9.25068259e-01, 1.08452499e-04,\n",
       "        4.95175991e-05, 8.06372282e-06, 5.94621873e-04, 4.09761007e-04,\n",
       "        2.11764360e-04, 9.21864185e-09],\n",
       "       [5.62394860e-07, 4.42147575e-04, 3.47555685e-03, 9.96051133e-01,\n",
       "        2.81159228e-05, 1.28509058e-07, 6.18193781e-07, 1.45231570e-06,\n",
       "        3.49977185e-08, 3.53070249e-07],\n",
       "       [2.80953702e-02, 3.64373554e-04, 7.91955650e-01, 2.85567297e-03,\n",
       "        6.15848154e-02, 1.61863212e-03, 5.85320108e-02, 4.01825644e-02,\n",
       "        1.41429510e-02, 6.68073306e-04],\n",
       "       [5.87841612e-04, 5.95156098e-06, 8.96369815e-01, 6.74250350e-06,\n",
       "        6.85088485e-02, 4.64240372e-07, 1.77576192e-04, 2.99704168e-02,\n",
       "        2.20406131e-04, 4.15191846e-03],\n",
       "       [1.52092299e-03, 5.93890843e-04, 9.09802318e-03, 1.32122752e-03,\n",
       "        2.61487246e-01, 1.40663260e-05, 7.24197149e-01, 4.50730033e-04,\n",
       "        9.77259246e-04, 3.39452847e-04],\n",
       "       [3.78918983e-02, 7.78999965e-05, 1.83605810e-03, 4.03324254e-02,\n",
       "        2.02353331e-05, 9.05087218e-04, 4.41247306e-04, 3.30976036e-04,\n",
       "        9.18081701e-01, 8.25496463e-05],\n",
       "       [8.66726160e-01, 2.91844783e-03, 2.93289572e-02, 1.86934751e-02,\n",
       "        7.02251680e-03, 4.70044070e-05, 6.90717772e-02, 5.32508304e-04,\n",
       "        5.33089135e-03, 3.28310940e-04],\n",
       "       [7.35781330e-04, 1.57513041e-02, 1.24111481e-04, 8.90188158e-01,\n",
       "        4.04237350e-03, 3.56678953e-07, 8.91027674e-02, 1.68904955e-06,\n",
       "        2.37861750e-05, 2.95695572e-05],\n",
       "       [3.45936939e-02, 2.31676706e-04, 8.58179033e-01, 1.02566006e-02,\n",
       "        4.60017808e-02, 1.58201467e-04, 2.12610327e-02, 3.40178353e-03,\n",
       "        2.58233622e-02, 9.29069065e-05],\n",
       "       [7.43769851e-05, 1.06922926e-04, 1.91114028e-04, 1.14204428e-04,\n",
       "        3.20768237e-01, 9.20304615e-08, 6.78692102e-01, 7.04917147e-06,\n",
       "        1.29953551e-05, 3.28655406e-05],\n",
       "       [1.77155912e-03, 1.45869722e-04, 3.56464386e-02, 6.88815722e-04,\n",
       "        4.26820844e-01, 2.26092834e-05, 5.32603085e-01, 1.14852400e-03,\n",
       "        9.92728397e-04, 1.59519113e-04],\n",
       "       [1.03177233e-02, 6.36888784e-04, 5.06481469e-01, 3.15592653e-04,\n",
       "        4.17485803e-01, 2.83573536e-05, 3.41104455e-02, 1.46652013e-02,\n",
       "        1.42242666e-03, 1.45360613e-02]], dtype=float32)"
      ]
     },
     "execution_count": 11,
     "metadata": {},
     "output_type": "execute_result"
    }
   ],
   "source": [
    "cnn_model_3.predict(x_test)"
   ]
  },
  {
   "cell_type": "code",
   "execution_count": 14,
   "metadata": {},
   "outputs": [
    {
     "name": "stdout",
     "output_type": "stream",
     "text": [
      "CPU times: user 1.83 ms, sys: 63 µs, total: 1.89 ms\n",
      "Wall time: 2.07 ms\n",
      "CPU times: user 588 µs, sys: 20 µs, total: 608 µs\n",
      "Wall time: 671 µs\n",
      "CPU times: user 726 µs, sys: 25 µs, total: 751 µs\n",
      "Wall time: 828 µs\n",
      "CPU times: user 1.02 ms, sys: 36 µs, total: 1.05 ms\n",
      "Wall time: 1.15 ms\n",
      "CPU times: user 583 µs, sys: 21 µs, total: 604 µs\n",
      "Wall time: 664 µs\n",
      "CPU times: user 1.7 ms, sys: 59 µs, total: 1.76 ms\n",
      "Wall time: 1.87 ms\n",
      "CPU times: user 3.08 ms, sys: 107 µs, total: 3.19 ms\n",
      "Wall time: 1.08 ms\n",
      "CPU times: user 551 µs, sys: 19 µs, total: 570 µs\n",
      "Wall time: 629 µs\n",
      "CPU times: user 1.06 ms, sys: 37 µs, total: 1.09 ms\n",
      "Wall time: 1.2 ms\n",
      "CPU times: user 1.56 ms, sys: 54 µs, total: 1.62 ms\n",
      "Wall time: 1.68 ms\n",
      "CPU times: user 1.04 ms, sys: 0 ns, total: 1.04 ms\n",
      "Wall time: 1.14 ms\n"
     ]
    },
    {
     "data": {
      "text/plain": [
       "<keras.layers.core.dense.Dense at 0x7f2d859e2710>"
      ]
     },
     "execution_count": 14,
     "metadata": {},
     "output_type": "execute_result"
    }
   ],
   "source": [
    "%time Conv2D(32, kernel_size=3, activation='relu', input_shape=image_shape, kernel_initializer='he_normal', name='Conv2D-1')\n",
    "%time MaxPooling2D(pool_size=2, name='MaxPool')\n",
    "%time Dropout(0.25, name='Dropout-1')\n",
    "%time Conv2D(64, kernel_size=3, activation='relu', name='Conv2D-2')\n",
    "%time Dropout(0.25, name='Dropout-2')\n",
    "%time Conv2D(128, kernel_size=3, activation='relu', name='Conv2D-3')\n",
    "%time Dropout(0.4, name='Dropout-3')\n",
    "%time Flatten(name='flatten')\n",
    "%time Dense(128, activation='relu', name='Dense')\n",
    "%time Dropout(0.4, name='Dropout')\n",
    "%time Dense(10, activation='softmax', name='Output')"
   ]
  },
  {
   "cell_type": "code",
   "execution_count": null,
   "metadata": {},
   "outputs": [],
   "source": [
    "%load_ext memory_profiler"
   ]
  },
  {
   "cell_type": "code",
   "execution_count": null,
   "metadata": {},
   "outputs": [
    {
     "name": "stdout",
     "output_type": "stream",
     "text": [
      "1/1 [==============================] - 0s 45ms/step\n"
     ]
    },
    {
     "data": {
      "text/plain": [
       "array([[7.50365496e-01, 3.83142789e-04, 1.08046387e-03, 6.30645314e-04,\n",
       "        4.51415777e-03, 1.10774727e-06, 2.42831320e-01, 3.03997840e-05,\n",
       "        1.37109164e-04, 2.62634221e-05],\n",
       "       [8.28639986e-06, 9.17133033e-01, 1.31098323e-05, 8.28359574e-02,\n",
       "        1.74527747e-06, 2.27995312e-08, 1.52888072e-06, 3.77593921e-07,\n",
       "        3.60398715e-08, 5.73347506e-06],\n",
       "       [1.05079236e-02, 4.53715475e-05, 6.48816407e-01, 1.80626400e-02,\n",
       "        1.32975683e-01, 2.20893955e-04, 1.50320604e-01, 3.30289756e-03,\n",
       "        3.56247015e-02, 1.22836253e-04],\n",
       "       [7.35494941e-02, 1.80058720e-07, 9.25068259e-01, 1.08452499e-04,\n",
       "        4.95175991e-05, 8.06372282e-06, 5.94621873e-04, 4.09761007e-04,\n",
       "        2.11764360e-04, 9.21864185e-09],\n",
       "       [5.62394860e-07, 4.42147575e-04, 3.47555685e-03, 9.96051133e-01,\n",
       "        2.81159228e-05, 1.28509058e-07, 6.18193781e-07, 1.45231570e-06,\n",
       "        3.49977185e-08, 3.53070249e-07],\n",
       "       [2.80953702e-02, 3.64373554e-04, 7.91955650e-01, 2.85567297e-03,\n",
       "        6.15848154e-02, 1.61863212e-03, 5.85320108e-02, 4.01825644e-02,\n",
       "        1.41429510e-02, 6.68073306e-04],\n",
       "       [5.87841612e-04, 5.95156098e-06, 8.96369815e-01, 6.74250350e-06,\n",
       "        6.85088485e-02, 4.64240372e-07, 1.77576192e-04, 2.99704168e-02,\n",
       "        2.20406131e-04, 4.15191846e-03],\n",
       "       [1.52092299e-03, 5.93890843e-04, 9.09802318e-03, 1.32122752e-03,\n",
       "        2.61487246e-01, 1.40663260e-05, 7.24197149e-01, 4.50730033e-04,\n",
       "        9.77259246e-04, 3.39452847e-04],\n",
       "       [3.78918983e-02, 7.78999965e-05, 1.83605810e-03, 4.03324254e-02,\n",
       "        2.02353331e-05, 9.05087218e-04, 4.41247306e-04, 3.30976036e-04,\n",
       "        9.18081701e-01, 8.25496463e-05],\n",
       "       [8.66726160e-01, 2.91844783e-03, 2.93289572e-02, 1.86934751e-02,\n",
       "        7.02251680e-03, 4.70044070e-05, 6.90717772e-02, 5.32508304e-04,\n",
       "        5.33089135e-03, 3.28310940e-04],\n",
       "       [7.35781330e-04, 1.57513041e-02, 1.24111481e-04, 8.90188158e-01,\n",
       "        4.04237350e-03, 3.56678953e-07, 8.91027674e-02, 1.68904955e-06,\n",
       "        2.37861750e-05, 2.95695572e-05],\n",
       "       [3.45936939e-02, 2.31676706e-04, 8.58179033e-01, 1.02566006e-02,\n",
       "        4.60017808e-02, 1.58201467e-04, 2.12610327e-02, 3.40178353e-03,\n",
       "        2.58233622e-02, 9.29069065e-05],\n",
       "       [7.43769851e-05, 1.06922926e-04, 1.91114028e-04, 1.14204428e-04,\n",
       "        3.20768237e-01, 9.20304615e-08, 6.78692102e-01, 7.04917147e-06,\n",
       "        1.29953551e-05, 3.28655406e-05],\n",
       "       [1.77155912e-03, 1.45869722e-04, 3.56464386e-02, 6.88815722e-04,\n",
       "        4.26820844e-01, 2.26092834e-05, 5.32603085e-01, 1.14852400e-03,\n",
       "        9.92728397e-04, 1.59519113e-04],\n",
       "       [1.03177233e-02, 6.36888784e-04, 5.06481469e-01, 3.15592653e-04,\n",
       "        4.17485803e-01, 2.83573536e-05, 3.41104455e-02, 1.46652013e-02,\n",
       "        1.42242666e-03, 1.45360613e-02]], dtype=float32)"
      ]
     },
     "execution_count": 14,
     "metadata": {},
     "output_type": "execute_result"
    }
   ],
   "source": [
    "cnn_model_3.predict(x_test)"
   ]
  },
  {
   "cell_type": "code",
   "execution_count": null,
   "metadata": {},
   "outputs": [
    {
     "name": "stdout",
     "output_type": "stream",
     "text": [
      "peak memory: 2700.01 MiB, increment: 0.00 MiB\n",
      "peak memory: 2668.91 MiB, increment: 0.00 MiB\n",
      "peak memory: 2668.91 MiB, increment: 0.00 MiB\n",
      "peak memory: 2648.55 MiB, increment: 0.00 MiB\n",
      "peak memory: 2648.55 MiB, increment: 0.00 MiB\n",
      "peak memory: 2648.55 MiB, increment: 0.00 MiB\n",
      "peak memory: 2648.55 MiB, increment: 0.00 MiB\n",
      "peak memory: 2648.55 MiB, increment: 0.00 MiB\n",
      "peak memory: 2648.55 MiB, increment: 0.00 MiB\n",
      "peak memory: 2648.55 MiB, increment: 0.00 MiB\n",
      "peak memory: 2648.56 MiB, increment: 0.01 MiB\n"
     ]
    }
   ],
   "source": [
    "%memit -o Conv2D(32, kernel_size=3, activation='relu', input_shape=image_shape, kernel_initializer='he_normal', name='Conv2D-1')\n",
    "%memit MaxPooling2D(pool_size=2, name='MaxPool')\n",
    "%memit Dropout(0.25, name='Dropout-1')\n",
    "%memit Conv2D(64, kernel_size=3, activation='relu', name='Conv2D-2')\n",
    "%memit Dropout(0.25, name='Dropout-2')\n",
    "%memit Conv2D(128, kernel_size=3, activation='relu', name='Conv2D-3')\n",
    "%memit Dropout(0.4, name='Dropout-3')\n",
    "%memit Flatten(name='flatten')\n",
    "%memit Dense(128, activation='relu', name='Dense')\n",
    "%memit Dropout(0.4, name='Dropout')\n",
    "%memit Dense(10, activation='softmax', name='Output')"
   ]
  },
  {
   "cell_type": "code",
   "execution_count": null,
   "metadata": {},
   "outputs": [
    {
     "name": "stdout",
     "output_type": "stream",
     "text": [
      "Epoch 1/50\n",
      "1/1 [==============================] - 0s 227ms/step - loss: 0.2005 - accuracy: 0.9250 - val_loss: 3.3109 - val_accuracy: 0.4000\n",
      "Epoch 2/50\n",
      "1/1 [==============================] - 0s 125ms/step - loss: 0.2803 - accuracy: 0.8250 - val_loss: 3.4451 - val_accuracy: 0.5000\n",
      "Epoch 3/50\n",
      "1/1 [==============================] - 0s 189ms/step - loss: 0.2026 - accuracy: 0.9750 - val_loss: 3.6126 - val_accuracy: 0.4000\n",
      "Epoch 4/50\n",
      "1/1 [==============================] - 0s 184ms/step - loss: 0.1385 - accuracy: 1.0000 - val_loss: 3.7332 - val_accuracy: 0.5000\n",
      "Epoch 5/50\n",
      "1/1 [==============================] - 0s 199ms/step - loss: 0.2622 - accuracy: 0.9500 - val_loss: 3.7317 - val_accuracy: 0.5000\n",
      "Epoch 6/50\n",
      "1/1 [==============================] - 0s 260ms/step - loss: 0.2680 - accuracy: 0.9250 - val_loss: 3.6160 - val_accuracy: 0.5000\n",
      "Epoch 7/50\n",
      "1/1 [==============================] - 0s 164ms/step - loss: 0.0702 - accuracy: 1.0000 - val_loss: 3.5602 - val_accuracy: 0.5000\n",
      "Epoch 8/50\n",
      "1/1 [==============================] - 0s 164ms/step - loss: 0.1385 - accuracy: 0.9500 - val_loss: 3.5289 - val_accuracy: 0.5000\n",
      "Epoch 9/50\n",
      "1/1 [==============================] - 0s 138ms/step - loss: 0.2154 - accuracy: 0.9250 - val_loss: 3.4415 - val_accuracy: 0.4000\n",
      "Epoch 10/50\n",
      "1/1 [==============================] - 0s 152ms/step - loss: 0.1406 - accuracy: 0.9750 - val_loss: 3.4356 - val_accuracy: 0.4000\n",
      "Epoch 11/50\n",
      "1/1 [==============================] - 0s 181ms/step - loss: 0.1523 - accuracy: 0.9750 - val_loss: 3.4750 - val_accuracy: 0.5000\n",
      "Epoch 12/50\n",
      "1/1 [==============================] - 0s 119ms/step - loss: 0.2015 - accuracy: 0.9250 - val_loss: 3.3135 - val_accuracy: 0.5000\n",
      "Epoch 13/50\n",
      "1/1 [==============================] - 0s 128ms/step - loss: 0.1280 - accuracy: 0.9500 - val_loss: 3.2263 - val_accuracy: 0.5000\n",
      "Epoch 14/50\n",
      "1/1 [==============================] - 0s 124ms/step - loss: 0.0937 - accuracy: 0.9750 - val_loss: 3.1486 - val_accuracy: 0.5000\n",
      "Epoch 15/50\n",
      "1/1 [==============================] - 0s 126ms/step - loss: 0.2729 - accuracy: 0.8750 - val_loss: 3.0879 - val_accuracy: 0.5000\n",
      "Epoch 16/50\n",
      "1/1 [==============================] - 0s 165ms/step - loss: 0.1252 - accuracy: 0.9500 - val_loss: 3.0677 - val_accuracy: 0.5000\n",
      "Epoch 17/50\n",
      "1/1 [==============================] - 0s 123ms/step - loss: 0.1422 - accuracy: 0.9500 - val_loss: 3.0334 - val_accuracy: 0.5000\n",
      "Epoch 18/50\n",
      "1/1 [==============================] - 0s 133ms/step - loss: 0.1110 - accuracy: 0.9750 - val_loss: 3.0131 - val_accuracy: 0.5000\n",
      "Epoch 19/50\n",
      "1/1 [==============================] - 0s 163ms/step - loss: 0.1362 - accuracy: 0.9250 - val_loss: 3.0095 - val_accuracy: 0.5000\n",
      "Epoch 20/50\n",
      "1/1 [==============================] - 0s 127ms/step - loss: 0.1952 - accuracy: 0.9000 - val_loss: 3.0874 - val_accuracy: 0.4000\n",
      "Epoch 21/50\n",
      "1/1 [==============================] - 0s 124ms/step - loss: 0.0544 - accuracy: 1.0000 - val_loss: 3.1999 - val_accuracy: 0.4000\n",
      "Epoch 22/50\n",
      "1/1 [==============================] - 0s 127ms/step - loss: 0.1346 - accuracy: 0.9250 - val_loss: 3.2707 - val_accuracy: 0.4000\n",
      "Epoch 23/50\n",
      "1/1 [==============================] - 0s 127ms/step - loss: 0.0640 - accuracy: 0.9750 - val_loss: 3.3254 - val_accuracy: 0.5000\n",
      "Epoch 24/50\n",
      "1/1 [==============================] - 0s 147ms/step - loss: 0.1179 - accuracy: 0.9500 - val_loss: 3.3598 - val_accuracy: 0.5000\n",
      "Epoch 25/50\n",
      "1/1 [==============================] - 0s 170ms/step - loss: 0.1121 - accuracy: 0.9500 - val_loss: 3.3790 - val_accuracy: 0.5000\n",
      "Epoch 26/50\n",
      "1/1 [==============================] - 0s 158ms/step - loss: 0.0615 - accuracy: 0.9750 - val_loss: 3.4803 - val_accuracy: 0.5000\n",
      "Epoch 27/50\n",
      "1/1 [==============================] - 0s 146ms/step - loss: 0.0843 - accuracy: 0.9750 - val_loss: 3.6159 - val_accuracy: 0.5000\n",
      "Epoch 28/50\n",
      "1/1 [==============================] - 0s 137ms/step - loss: 0.1399 - accuracy: 0.9750 - val_loss: 3.5361 - val_accuracy: 0.5000\n",
      "Epoch 29/50\n",
      "1/1 [==============================] - 0s 146ms/step - loss: 0.1144 - accuracy: 0.9750 - val_loss: 3.4774 - val_accuracy: 0.5000\n",
      "Epoch 30/50\n",
      "1/1 [==============================] - 0s 263ms/step - loss: 0.0611 - accuracy: 0.9750 - val_loss: 3.4065 - val_accuracy: 0.5000\n",
      "Epoch 31/50\n",
      "1/1 [==============================] - 0s 157ms/step - loss: 0.0516 - accuracy: 1.0000 - val_loss: 3.3875 - val_accuracy: 0.5000\n",
      "Epoch 32/50\n",
      "1/1 [==============================] - 0s 143ms/step - loss: 0.0670 - accuracy: 0.9500 - val_loss: 3.4014 - val_accuracy: 0.5000\n",
      "Epoch 33/50\n",
      "1/1 [==============================] - 0s 163ms/step - loss: 0.0904 - accuracy: 0.9750 - val_loss: 3.3965 - val_accuracy: 0.6000\n",
      "Epoch 34/50\n",
      "1/1 [==============================] - 0s 120ms/step - loss: 0.1529 - accuracy: 0.9250 - val_loss: 3.2308 - val_accuracy: 0.5000\n",
      "Epoch 35/50\n",
      "1/1 [==============================] - 0s 115ms/step - loss: 0.0576 - accuracy: 0.9750 - val_loss: 3.0177 - val_accuracy: 0.5000\n",
      "Epoch 36/50\n",
      "1/1 [==============================] - 0s 121ms/step - loss: 0.0718 - accuracy: 0.9500 - val_loss: 2.8198 - val_accuracy: 0.5000\n",
      "Epoch 37/50\n",
      "1/1 [==============================] - 0s 123ms/step - loss: 0.0407 - accuracy: 1.0000 - val_loss: 2.6331 - val_accuracy: 0.5000\n",
      "Epoch 38/50\n",
      "1/1 [==============================] - 0s 143ms/step - loss: 0.0358 - accuracy: 1.0000 - val_loss: 2.5083 - val_accuracy: 0.5000\n",
      "Epoch 39/50\n",
      "1/1 [==============================] - 0s 123ms/step - loss: 0.0173 - accuracy: 1.0000 - val_loss: 2.4470 - val_accuracy: 0.5000\n",
      "Epoch 40/50\n",
      "1/1 [==============================] - 0s 94ms/step - loss: 0.0856 - accuracy: 0.9500 - val_loss: 2.5417 - val_accuracy: 0.5000\n",
      "Epoch 41/50\n",
      "1/1 [==============================] - 0s 129ms/step - loss: 0.0575 - accuracy: 0.9750 - val_loss: 2.9684 - val_accuracy: 0.5000\n",
      "Epoch 42/50\n",
      "1/1 [==============================] - 0s 177ms/step - loss: 0.0685 - accuracy: 0.9750 - val_loss: 3.3737 - val_accuracy: 0.5000\n",
      "Epoch 43/50\n",
      "1/1 [==============================] - 0s 143ms/step - loss: 0.1078 - accuracy: 0.9750 - val_loss: 3.7527 - val_accuracy: 0.4000\n",
      "Epoch 44/50\n",
      "1/1 [==============================] - 0s 100ms/step - loss: 0.0731 - accuracy: 0.9500 - val_loss: 3.9530 - val_accuracy: 0.4000\n",
      "Epoch 45/50\n",
      "1/1 [==============================] - 0s 87ms/step - loss: 0.0374 - accuracy: 0.9750 - val_loss: 4.1071 - val_accuracy: 0.4000\n",
      "Epoch 46/50\n",
      "1/1 [==============================] - 0s 102ms/step - loss: 0.0578 - accuracy: 0.9750 - val_loss: 4.2224 - val_accuracy: 0.5000\n",
      "Epoch 47/50\n",
      "1/1 [==============================] - 0s 125ms/step - loss: 0.0678 - accuracy: 0.9750 - val_loss: 4.3302 - val_accuracy: 0.5000\n",
      "Epoch 48/50\n",
      "1/1 [==============================] - 0s 102ms/step - loss: 0.0130 - accuracy: 1.0000 - val_loss: 4.3961 - val_accuracy: 0.5000\n",
      "Epoch 49/50\n",
      "1/1 [==============================] - 0s 105ms/step - loss: 0.0303 - accuracy: 1.0000 - val_loss: 4.4433 - val_accuracy: 0.5000\n",
      "Epoch 50/50\n",
      "1/1 [==============================] - 0s 132ms/step - loss: 0.0322 - accuracy: 1.0000 - val_loss: 4.4500 - val_accuracy: 0.5000\n"
     ]
    },
    {
     "data": {
      "text/plain": [
       "<keras.callbacks.History at 0x7fa18112e7a0>"
      ]
     },
     "execution_count": 16,
     "metadata": {},
     "output_type": "execute_result"
    }
   ],
   "source": [
    "cnn_model_3.fit(\n",
    "    x_train, y_train,\n",
    "    batch_size=batch_size,\n",
    "    epochs=50, verbose=1,\n",
    "    validation_data=(x_validate, y_validate)\n",
    ")"
   ]
  },
  {
   "cell_type": "code",
   "execution_count": null,
   "metadata": {},
   "outputs": [
    {
     "name": "stdout",
     "output_type": "stream",
     "text": [
      "peak memory: 5084.80 MiB, increment: 2451.69 MiB\n",
      "peak memory: 5084.74 MiB, increment: 2461.15 MiB\n"
     ]
    }
   ],
   "source": [
    "%memit -c Conv2D(32, kernel_size=3, activation='relu', input_shape=image_shape, kernel_initializer='he_normal', name='Conv2D-1')\n",
    "%memit -c MaxPooling2D(pool_size=2, name='MaxPool')"
   ]
  },
  {
   "cell_type": "code",
   "execution_count": 15,
   "metadata": {},
   "outputs": [
    {
     "name": "stdout",
     "output_type": "stream",
     "text": [
      "\u001b[0;31mDocstring:\u001b[0m\n",
      "Time execution of a Python statement or expression.\n",
      "\n",
      "The CPU and wall clock times are printed, and the value of the\n",
      "expression (if any) is returned.  Note that under Win32, system time\n",
      "is always reported as 0, since it can not be measured.\n",
      "\n",
      "This function can be used both as a line and cell magic:\n",
      "\n",
      "- In line mode you can time a single-line statement (though multiple\n",
      "  ones can be chained with using semicolons).\n",
      "\n",
      "- In cell mode, you can time the cell body (a directly\n",
      "  following statement raises an error).\n",
      "\n",
      "This function provides very basic timing functionality.  Use the timeit\n",
      "magic for more control over the measurement.\n",
      "\n",
      ".. versionchanged:: 7.3\n",
      "    User variables are no longer expanded,\n",
      "    the magic line is always left unmodified.\n",
      "\n",
      "Examples\n",
      "--------\n",
      "::\n",
      "\n",
      "  In [1]: %time 2**128\n",
      "  CPU times: user 0.00 s, sys: 0.00 s, total: 0.00 s\n",
      "  Wall time: 0.00\n",
      "  Out[1]: 340282366920938463463374607431768211456L\n",
      "\n",
      "  In [2]: n = 1000000\n",
      "\n",
      "  In [3]: %time sum(range(n))\n",
      "  CPU times: user 1.20 s, sys: 0.05 s, total: 1.25 s\n",
      "  Wall time: 1.37\n",
      "  Out[3]: 499999500000L\n",
      "\n",
      "  In [4]: %time print 'hello world'\n",
      "  hello world\n",
      "  CPU times: user 0.00 s, sys: 0.00 s, total: 0.00 s\n",
      "  Wall time: 0.00\n",
      "\n",
      ".. note::\n",
      "    The time needed by Python to compile the given expression will be\n",
      "    reported if it is more than 0.1s.\n",
      "\n",
      "    In the example below, the actual exponentiation is done by Python\n",
      "    at compilation time, so while the expression can take a noticeable\n",
      "    amount of time to compute, that time is purely due to the\n",
      "    compilation::\n",
      "\n",
      "        In [5]: %time 3**9999;\n",
      "        CPU times: user 0.00 s, sys: 0.00 s, total: 0.00 s\n",
      "        Wall time: 0.00 s\n",
      "\n",
      "        In [6]: %time 3**999999;\n",
      "        CPU times: user 0.00 s, sys: 0.00 s, total: 0.00 s\n",
      "        Wall time: 0.00 s\n",
      "        Compiler : 0.78 s\n",
      "\u001b[0;31mFile:\u001b[0m      ~/grad_school/profiling_1/venv/lib/python3.10/site-packages/IPython/core/magics/execution.py"
     ]
    },
    {
     "ename": "",
     "evalue": "",
     "output_type": "error",
     "traceback": [
      "\u001b[1;31mThe Kernel crashed while executing code in the the current cell or a previous cell. Please review the code in the cell(s) to identify a possible cause of the failure. Click <a href='https://aka.ms/vscodeJupyterKernelCrash'>here</a> for more info. View Jupyter <a href='command:jupyter.viewOutput'>log</a> for further details."
     ]
    }
   ],
   "source": [
    "%time?"
   ]
  },
  {
   "cell_type": "code",
   "execution_count": null,
   "metadata": {},
   "outputs": [
    {
     "name": "stdout",
     "output_type": "stream",
     "text": [
      "Writing mprun.py\n"
     ]
    }
   ],
   "source": [
    "%%file mprun.py\n",
    "def to_profile():\n",
    "    Conv2D(32, kernel_size=3, activation='relu', input_shape=image_shape, kernel_initializer='he_normal', name='Conv2D-1')\n",
    "    MaxPooling2D(pool_size=2, name='MaxPool')\n",
    "    Dropout(0.25, name='Dropout-1')\n",
    "    Conv2D(64, kernel_size=3, activation='relu', name='Conv2D-2')\n",
    "    Dropout(0.25, name='Dropout-2')\n",
    "    Conv2D(128, kernel_size=3, activation='relu', name='Conv2D-3')\n",
    "    Dropout(0.4, name='Dropout-3')\n",
    "    Flatten(name='flatten')\n",
    "    Dense(128, activation='relu', name='Dense')\n",
    "    Dropout(0.4, name='Dropout')\n",
    "    Dense(10, activation='softmax', name='Output')\n"
   ]
  },
  {
   "cell_type": "code",
   "execution_count": null,
   "metadata": {},
   "outputs": [
    {
     "name": "stderr",
     "output_type": "stream",
     "text": [
      "UsageError: Could not find function 'to_profile()'.\n",
      "NameError: name 'Conv2D' is not defined\n"
     ]
    },
    {
     "ename": "",
     "evalue": "",
     "output_type": "error",
     "traceback": [
      "\u001b[1;31mThe Kernel crashed while executing code in the the current cell or a previous cell. Please review the code in the cell(s) to identify a possible cause of the failure. Click <a href='https://aka.ms/vscodeJupyterKernelCrash'>here</a> for more info. View Jupyter <a href='command:jupyter.viewOutput'>log</a> for further details."
     ]
    }
   ],
   "source": [
    "from mprun import to_profile\n",
    "%mprun -f to_profile()"
   ]
  },
  {
   "cell_type": "code",
   "execution_count": null,
   "metadata": {},
   "outputs": [],
   "source": []
  }
 ],
 "metadata": {
  "kernelspec": {
   "display_name": "venv",
   "language": "python",
   "name": "python3"
  },
  "language_info": {
   "codemirror_mode": {
    "name": "ipython",
    "version": 3
   },
   "file_extension": ".py",
   "mimetype": "text/x-python",
   "name": "python",
   "nbconvert_exporter": "python",
   "pygments_lexer": "ipython3",
   "version": "3.10.6"
  },
  "orig_nbformat": 4,
  "vscode": {
   "interpreter": {
    "hash": "e80fdaf8e8623e71148aefe8a2fa032ff1dadbc0b2cb15a380fde3756a2db3ec"
   }
  }
 },
 "nbformat": 4,
 "nbformat_minor": 2
}
