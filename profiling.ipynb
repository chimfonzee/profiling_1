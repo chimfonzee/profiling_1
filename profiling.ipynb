{
 "cells": [
  {
   "cell_type": "code",
   "execution_count": 43,
   "metadata": {},
   "outputs": [],
   "source": [
    "import keras\n",
    "import pandas as pd\n",
    "import numpy as np\n",
    "\n",
    "from keras.models import Sequential\n",
    "from keras.layers import Conv2D,MaxPooling2D,Dense,Flatten,Dropout\n",
    "from keras.optimizers import Adam\n",
    "from keras.callbacks import TensorBoard\n",
    "\n",
    "from sklearn.model_selection import train_test_split"
   ]
  },
  {
   "cell_type": "code",
   "execution_count": 44,
   "metadata": {},
   "outputs": [],
   "source": [
    "train_df = pd.read_csv('fashion_mnist/fashion-mnist_train.csv',sep=',')\n",
    "test_df = pd.read_csv('fashion_mnist/fashion-mnist_test.csv', sep=',')\n",
    "train_data = np.array(train_df, dtype = 'float32')\n",
    "test_data = np.array(test_df, dtype='float32')\n",
    "x_train = train_data[:50,1:]/255\n",
    "y_train = train_data[:50,0]\n",
    "x_test= test_data[:15,1:]/255\n",
    "y_test=test_data[:15,0] "
   ]
  },
  {
   "cell_type": "code",
   "execution_count": 45,
   "metadata": {},
   "outputs": [],
   "source": [
    "x_train,x_validate,y_train,y_validate = train_test_split(x_train,y_train,test_size = 0.2,random_state = 12345)\n",
    "image_rows = 28\n",
    "image_cols = 28\n",
    "batch_size = 512\n",
    "image_shape = (image_rows,image_cols,1)"
   ]
  },
  {
   "cell_type": "code",
   "execution_count": 46,
   "metadata": {},
   "outputs": [
    {
     "name": "stdout",
     "output_type": "stream",
     "text": [
      "x_train shape = (40, 28, 28, 1)\n",
      "x_test shape = (15, 28, 28, 1)\n",
      "x_validate shape = (10, 28, 28, 1)\n"
     ]
    }
   ],
   "source": [
    "x_train = x_train.reshape(x_train.shape[0],*image_shape)\n",
    "x_test = x_test.reshape(x_test.shape[0],*image_shape)\n",
    "x_validate = x_validate.reshape(x_validate.shape[0],*image_shape)\n",
    "\n",
    "print(\"x_train shape = {}\".format(x_train.shape))\n",
    "print(\"x_test shape = {}\".format(x_test.shape))\n",
    "print(\"x_validate shape = {}\".format(x_validate.shape))"
   ]
  },
  {
   "cell_type": "code",
   "execution_count": 47,
   "metadata": {},
   "outputs": [],
   "source": [
    "name='3_layer'\n",
    "cnn_model_3 = Sequential([\n",
    "    Conv2D(32, kernel_size=3, activation='relu', \n",
    "           input_shape=image_shape, kernel_initializer='he_normal', name='Conv2D-1'),\n",
    "    MaxPooling2D(pool_size=2, name='MaxPool'),\n",
    "    Dropout(0.25, name='Dropout-1'),\n",
    "    Conv2D(64, kernel_size=3, activation='relu', name='Conv2D-2'),\n",
    "    Dropout(0.25, name='Dropout-2'),\n",
    "    Conv2D(128, kernel_size=3, activation='relu', name='Conv2D-3'),\n",
    "    Dropout(0.4, name='Dropout-3'),\n",
    "    Flatten(name='flatten'),\n",
    "    Dense(128, activation='relu', name='Dense'),\n",
    "    Dropout(0.4, name='Dropout'),\n",
    "    Dense(10, activation='softmax', name='Output')\n",
    "], name=name)"
   ]
  },
  {
   "cell_type": "code",
   "execution_count": 48,
   "metadata": {},
   "outputs": [
    {
     "name": "stdout",
     "output_type": "stream",
     "text": [
      "Model: \"3_layer\"\n",
      "_________________________________________________________________\n",
      " Layer (type)                Output Shape              Param #   \n",
      "=================================================================\n",
      " Conv2D-1 (Conv2D)           (None, 26, 26, 32)        320       \n",
      "                                                                 \n",
      " MaxPool (MaxPooling2D)      (None, 13, 13, 32)        0         \n",
      "                                                                 \n",
      " Dropout-1 (Dropout)         (None, 13, 13, 32)        0         \n",
      "                                                                 \n",
      " Conv2D-2 (Conv2D)           (None, 11, 11, 64)        18496     \n",
      "                                                                 \n",
      " Dropout-2 (Dropout)         (None, 11, 11, 64)        0         \n",
      "                                                                 \n",
      " Conv2D-3 (Conv2D)           (None, 9, 9, 128)         73856     \n",
      "                                                                 \n",
      " Dropout-3 (Dropout)         (None, 9, 9, 128)         0         \n",
      "                                                                 \n",
      " flatten (Flatten)           (None, 10368)             0         \n",
      "                                                                 \n",
      " Dense (Dense)               (None, 128)               1327232   \n",
      "                                                                 \n",
      " Dropout (Dropout)           (None, 128)               0         \n",
      "                                                                 \n",
      " Output (Dense)              (None, 10)                1290      \n",
      "                                                                 \n",
      "=================================================================\n",
      "Total params: 1,421,194\n",
      "Trainable params: 1,421,194\n",
      "Non-trainable params: 0\n",
      "_________________________________________________________________\n"
     ]
    }
   ],
   "source": [
    "cnn_model_3.summary()"
   ]
  },
  {
   "cell_type": "code",
   "execution_count": 49,
   "metadata": {},
   "outputs": [
    {
     "name": "stdout",
     "output_type": "stream",
     "text": [
      "Epoch 1/50\n"
     ]
    },
    {
     "name": "stderr",
     "output_type": "stream",
     "text": [
      "2023-02-07 15:39:05.052923: E tensorflow/core/grappler/optimizers/meta_optimizer.cc:954] layout failed: INVALID_ARGUMENT: Size of values 0 does not match size of permutation 4 @ fanin shape in3_layer/Dropout-1/dropout/SelectV2-2-TransposeNHWCToNCHW-LayoutOptimizer\n",
      "2023-02-07 15:39:10.834111: I tensorflow/compiler/xla/stream_executor/cuda/cuda_dnn.cc:428] Loaded cuDNN version 8700\n",
      "2023-02-07 15:39:16.594966: I tensorflow/tsl/platform/default/subprocess.cc:304] Start cannot spawn child process: No such file or directory\n",
      "2023-02-07 15:39:17.260352: I tensorflow/compiler/xla/stream_executor/cuda/cuda_blas.cc:630] TensorFloat-32 will be used for the matrix multiplication. This will only be logged once.\n"
     ]
    },
    {
     "name": "stdout",
     "output_type": "stream",
     "text": [
      "1/1 [==============================] - 14s 14s/step - loss: 2.6154 - accuracy: 0.1000 - val_loss: 2.9200 - val_accuracy: 0.2000\n",
      "Epoch 2/50\n",
      "1/1 [==============================] - 0s 33ms/step - loss: 3.1648 - accuracy: 0.1250 - val_loss: 2.6943 - val_accuracy: 0.0000e+00\n",
      "Epoch 3/50\n",
      "1/1 [==============================] - 0s 36ms/step - loss: 2.1835 - accuracy: 0.1750 - val_loss: 2.4517 - val_accuracy: 0.0000e+00\n",
      "Epoch 4/50\n",
      "1/1 [==============================] - 0s 37ms/step - loss: 2.2121 - accuracy: 0.2000 - val_loss: 2.2578 - val_accuracy: 0.1000\n",
      "Epoch 5/50\n",
      "1/1 [==============================] - 0s 34ms/step - loss: 2.2226 - accuracy: 0.1750 - val_loss: 2.2048 - val_accuracy: 0.3000\n",
      "Epoch 6/50\n",
      "1/1 [==============================] - 0s 31ms/step - loss: 2.0144 - accuracy: 0.2750 - val_loss: 2.2078 - val_accuracy: 0.3000\n",
      "Epoch 7/50\n",
      "1/1 [==============================] - 0s 33ms/step - loss: 2.0042 - accuracy: 0.3500 - val_loss: 2.2059 - val_accuracy: 0.3000\n",
      "Epoch 8/50\n",
      "1/1 [==============================] - 0s 39ms/step - loss: 1.9168 - accuracy: 0.4000 - val_loss: 2.1951 - val_accuracy: 0.3000\n",
      "Epoch 9/50\n",
      "1/1 [==============================] - 0s 43ms/step - loss: 1.9734 - accuracy: 0.2500 - val_loss: 2.1858 - val_accuracy: 0.3000\n",
      "Epoch 10/50\n",
      "1/1 [==============================] - 0s 35ms/step - loss: 1.8182 - accuracy: 0.3750 - val_loss: 2.1774 - val_accuracy: 0.3000\n",
      "Epoch 11/50\n",
      "1/1 [==============================] - 0s 36ms/step - loss: 1.7607 - accuracy: 0.3750 - val_loss: 2.1785 - val_accuracy: 0.3000\n",
      "Epoch 12/50\n",
      "1/1 [==============================] - 0s 34ms/step - loss: 1.7113 - accuracy: 0.3750 - val_loss: 2.1948 - val_accuracy: 0.3000\n",
      "Epoch 13/50\n",
      "1/1 [==============================] - 0s 33ms/step - loss: 1.6474 - accuracy: 0.5250 - val_loss: 2.2153 - val_accuracy: 0.3000\n",
      "Epoch 14/50\n",
      "1/1 [==============================] - 0s 49ms/step - loss: 1.5863 - accuracy: 0.4000 - val_loss: 2.2079 - val_accuracy: 0.3000\n",
      "Epoch 15/50\n",
      "1/1 [==============================] - 0s 39ms/step - loss: 1.4336 - accuracy: 0.5500 - val_loss: 2.1540 - val_accuracy: 0.3000\n",
      "Epoch 16/50\n",
      "1/1 [==============================] - 0s 34ms/step - loss: 1.3706 - accuracy: 0.4750 - val_loss: 2.1012 - val_accuracy: 0.4000\n",
      "Epoch 17/50\n",
      "1/1 [==============================] - 0s 29ms/step - loss: 1.2266 - accuracy: 0.6250 - val_loss: 2.0498 - val_accuracy: 0.5000\n",
      "Epoch 18/50\n",
      "1/1 [==============================] - 0s 30ms/step - loss: 1.1914 - accuracy: 0.5250 - val_loss: 1.9901 - val_accuracy: 0.5000\n",
      "Epoch 19/50\n",
      "1/1 [==============================] - 0s 30ms/step - loss: 1.2519 - accuracy: 0.5500 - val_loss: 1.8975 - val_accuracy: 0.4000\n",
      "Epoch 20/50\n",
      "1/1 [==============================] - 0s 29ms/step - loss: 1.2808 - accuracy: 0.5000 - val_loss: 1.8054 - val_accuracy: 0.4000\n",
      "Epoch 21/50\n",
      "1/1 [==============================] - 0s 32ms/step - loss: 1.1299 - accuracy: 0.6000 - val_loss: 1.6851 - val_accuracy: 0.4000\n",
      "Epoch 22/50\n",
      "1/1 [==============================] - 0s 31ms/step - loss: 0.8729 - accuracy: 0.7000 - val_loss: 1.6265 - val_accuracy: 0.4000\n",
      "Epoch 23/50\n",
      "1/1 [==============================] - 0s 29ms/step - loss: 0.9240 - accuracy: 0.7000 - val_loss: 1.6344 - val_accuracy: 0.4000\n",
      "Epoch 24/50\n",
      "1/1 [==============================] - 0s 33ms/step - loss: 0.8784 - accuracy: 0.6750 - val_loss: 1.6220 - val_accuracy: 0.4000\n",
      "Epoch 25/50\n",
      "1/1 [==============================] - 0s 30ms/step - loss: 0.9025 - accuracy: 0.7250 - val_loss: 1.6298 - val_accuracy: 0.4000\n",
      "Epoch 26/50\n",
      "1/1 [==============================] - 0s 36ms/step - loss: 0.7936 - accuracy: 0.7000 - val_loss: 1.6795 - val_accuracy: 0.5000\n",
      "Epoch 27/50\n",
      "1/1 [==============================] - 0s 35ms/step - loss: 0.6800 - accuracy: 0.8000 - val_loss: 1.7369 - val_accuracy: 0.5000\n",
      "Epoch 28/50\n",
      "1/1 [==============================] - 0s 30ms/step - loss: 0.6832 - accuracy: 0.7500 - val_loss: 1.8197 - val_accuracy: 0.5000\n",
      "Epoch 29/50\n",
      "1/1 [==============================] - 0s 31ms/step - loss: 0.7335 - accuracy: 0.6500 - val_loss: 1.9180 - val_accuracy: 0.5000\n",
      "Epoch 30/50\n",
      "1/1 [==============================] - 0s 33ms/step - loss: 0.5406 - accuracy: 0.8000 - val_loss: 1.9937 - val_accuracy: 0.4000\n",
      "Epoch 31/50\n",
      "1/1 [==============================] - 0s 32ms/step - loss: 0.5709 - accuracy: 0.7250 - val_loss: 2.0582 - val_accuracy: 0.4000\n",
      "Epoch 32/50\n",
      "1/1 [==============================] - 0s 32ms/step - loss: 0.5049 - accuracy: 0.7500 - val_loss: 2.0803 - val_accuracy: 0.4000\n",
      "Epoch 33/50\n",
      "1/1 [==============================] - 0s 30ms/step - loss: 0.4644 - accuracy: 0.7500 - val_loss: 2.0960 - val_accuracy: 0.4000\n",
      "Epoch 34/50\n",
      "1/1 [==============================] - 0s 29ms/step - loss: 0.6522 - accuracy: 0.7250 - val_loss: 2.1159 - val_accuracy: 0.3000\n",
      "Epoch 35/50\n",
      "1/1 [==============================] - 0s 30ms/step - loss: 0.6069 - accuracy: 0.7500 - val_loss: 2.1383 - val_accuracy: 0.4000\n",
      "Epoch 36/50\n",
      "1/1 [==============================] - 0s 30ms/step - loss: 0.3534 - accuracy: 0.8250 - val_loss: 2.1410 - val_accuracy: 0.4000\n",
      "Epoch 37/50\n",
      "1/1 [==============================] - 0s 30ms/step - loss: 0.3339 - accuracy: 0.8750 - val_loss: 2.0958 - val_accuracy: 0.4000\n",
      "Epoch 38/50\n",
      "1/1 [==============================] - 0s 29ms/step - loss: 0.3930 - accuracy: 0.8250 - val_loss: 2.0497 - val_accuracy: 0.4000\n",
      "Epoch 39/50\n",
      "1/1 [==============================] - 0s 30ms/step - loss: 0.3499 - accuracy: 0.8000 - val_loss: 1.9872 - val_accuracy: 0.4000\n",
      "Epoch 40/50\n",
      "1/1 [==============================] - 0s 29ms/step - loss: 0.4110 - accuracy: 0.7750 - val_loss: 1.9198 - val_accuracy: 0.4000\n",
      "Epoch 41/50\n",
      "1/1 [==============================] - 0s 30ms/step - loss: 0.3967 - accuracy: 0.8000 - val_loss: 1.8885 - val_accuracy: 0.4000\n",
      "Epoch 42/50\n",
      "1/1 [==============================] - 0s 29ms/step - loss: 0.2328 - accuracy: 0.9500 - val_loss: 1.9602 - val_accuracy: 0.5000\n",
      "Epoch 43/50\n",
      "1/1 [==============================] - 0s 29ms/step - loss: 0.5325 - accuracy: 0.8000 - val_loss: 2.0493 - val_accuracy: 0.5000\n",
      "Epoch 44/50\n",
      "1/1 [==============================] - 0s 30ms/step - loss: 0.2785 - accuracy: 0.8500 - val_loss: 2.1786 - val_accuracy: 0.5000\n",
      "Epoch 45/50\n",
      "1/1 [==============================] - 0s 30ms/step - loss: 0.3652 - accuracy: 0.8750 - val_loss: 2.3851 - val_accuracy: 0.4000\n",
      "Epoch 46/50\n",
      "1/1 [==============================] - 0s 30ms/step - loss: 0.3136 - accuracy: 0.8500 - val_loss: 2.5190 - val_accuracy: 0.4000\n",
      "Epoch 47/50\n",
      "1/1 [==============================] - 0s 29ms/step - loss: 0.2845 - accuracy: 0.8500 - val_loss: 2.5788 - val_accuracy: 0.4000\n",
      "Epoch 48/50\n",
      "1/1 [==============================] - 0s 30ms/step - loss: 0.1906 - accuracy: 0.9750 - val_loss: 2.6078 - val_accuracy: 0.4000\n",
      "Epoch 49/50\n",
      "1/1 [==============================] - 0s 30ms/step - loss: 0.3503 - accuracy: 0.8500 - val_loss: 2.5359 - val_accuracy: 0.4000\n",
      "Epoch 50/50\n",
      "1/1 [==============================] - 0s 29ms/step - loss: 0.2365 - accuracy: 0.9000 - val_loss: 2.4818 - val_accuracy: 0.4000\n"
     ]
    }
   ],
   "source": [
    "cnn_model_3.compile(\n",
    "    loss='sparse_categorical_crossentropy',\n",
    "    optimizer=Adam(),\n",
    "    metrics=['accuracy']\n",
    ")\n",
    "\n",
    "history = cnn_model_3.fit(\n",
    "    x_train, y_train,\n",
    "    batch_size=batch_size,\n",
    "    epochs=50, verbose=1,\n",
    "    validation_data=(x_validate, y_validate)\n",
    ")"
   ]
  },
  {
   "cell_type": "code",
   "execution_count": 56,
   "metadata": {},
   "outputs": [
    {
     "name": "stdout",
     "output_type": "stream",
     "text": [
      "The line_profiler extension is already loaded. To reload it, use:\n",
      "  %reload_ext line_profiler\n"
     ]
    }
   ],
   "source": [
    "%load_ext line_profiler"
   ]
  },
  {
   "cell_type": "code",
   "execution_count": 60,
   "metadata": {},
   "outputs": [
    {
     "name": "stdout",
     "output_type": "stream",
     "text": [
      "Epoch 1/50\n",
      "1/1 [==============================] - ETA: 0s - loss: 0.2141 - accuracy: 0.9250"
     ]
    },
    {
     "name": "stderr",
     "output_type": "stream",
     "text": [
      "/home/fonzee/grad_school/profiling_1/venv/lib/python3.10/site-packages/line_profiler/ipython_extension.py:71: UserWarning: Adding a function with a __wrapped__ attribute. You may want to profile the wrapped function by adding fit.__wrapped__ instead.\n",
      "  profile = LineProfiler(*funcs)\n"
     ]
    },
    {
     "name": "stdout",
     "output_type": "stream",
     "text": [
      "1/1 [==============================] - 0s 157ms/step - loss: 0.2141 - accuracy: 0.9250 - val_loss: 2.4495 - val_accuracy: 0.4000\n",
      "Epoch 2/50\n",
      "1/1 [==============================] - 0s 96ms/step - loss: 0.1213 - accuracy: 0.9750 - val_loss: 2.4355 - val_accuracy: 0.3000\n",
      "Epoch 3/50\n",
      "1/1 [==============================] - 0s 32ms/step - loss: 0.2195 - accuracy: 0.9000 - val_loss: 2.3912 - val_accuracy: 0.3000\n",
      "Epoch 4/50\n",
      "1/1 [==============================] - 0s 34ms/step - loss: 0.1169 - accuracy: 0.9750 - val_loss: 2.3770 - val_accuracy: 0.4000\n",
      "Epoch 5/50\n",
      "1/1 [==============================] - 0s 32ms/step - loss: 0.2473 - accuracy: 0.9250 - val_loss: 2.5135 - val_accuracy: 0.5000\n",
      "Epoch 6/50\n",
      "1/1 [==============================] - 0s 30ms/step - loss: 0.1427 - accuracy: 0.9750 - val_loss: 2.6957 - val_accuracy: 0.4000\n",
      "Epoch 7/50\n",
      "1/1 [==============================] - 0s 30ms/step - loss: 0.1060 - accuracy: 1.0000 - val_loss: 2.8967 - val_accuracy: 0.3000\n",
      "Epoch 8/50\n",
      "1/1 [==============================] - 0s 33ms/step - loss: 0.1999 - accuracy: 0.9250 - val_loss: 3.0527 - val_accuracy: 0.4000\n",
      "Epoch 9/50\n",
      "1/1 [==============================] - 0s 32ms/step - loss: 0.1014 - accuracy: 0.9750 - val_loss: 3.2573 - val_accuracy: 0.4000\n",
      "Epoch 10/50\n",
      "1/1 [==============================] - 0s 32ms/step - loss: 0.1772 - accuracy: 0.9250 - val_loss: 3.4509 - val_accuracy: 0.4000\n",
      "Epoch 11/50\n",
      "1/1 [==============================] - 0s 34ms/step - loss: 0.1077 - accuracy: 0.9500 - val_loss: 3.7084 - val_accuracy: 0.4000\n",
      "Epoch 12/50\n",
      "1/1 [==============================] - 0s 31ms/step - loss: 0.0484 - accuracy: 1.0000 - val_loss: 3.9260 - val_accuracy: 0.3000\n",
      "Epoch 13/50\n",
      "1/1 [==============================] - 0s 36ms/step - loss: 0.2514 - accuracy: 0.9250 - val_loss: 4.1562 - val_accuracy: 0.3000\n",
      "Epoch 14/50\n",
      "1/1 [==============================] - 0s 33ms/step - loss: 0.1224 - accuracy: 0.9500 - val_loss: 4.3304 - val_accuracy: 0.2000\n",
      "Epoch 15/50\n",
      "1/1 [==============================] - 0s 33ms/step - loss: 0.0861 - accuracy: 1.0000 - val_loss: 4.4874 - val_accuracy: 0.3000\n",
      "Epoch 16/50\n",
      "1/1 [==============================] - 0s 33ms/step - loss: 0.1137 - accuracy: 0.9500 - val_loss: 4.5805 - val_accuracy: 0.4000\n",
      "Epoch 17/50\n",
      "1/1 [==============================] - 0s 35ms/step - loss: 0.0892 - accuracy: 0.9750 - val_loss: 4.6645 - val_accuracy: 0.4000\n",
      "Epoch 18/50\n",
      "1/1 [==============================] - 0s 32ms/step - loss: 0.1121 - accuracy: 0.9750 - val_loss: 4.5845 - val_accuracy: 0.4000\n",
      "Epoch 19/50\n",
      "1/1 [==============================] - 0s 31ms/step - loss: 0.0499 - accuracy: 1.0000 - val_loss: 4.5398 - val_accuracy: 0.4000\n",
      "Epoch 20/50\n",
      "1/1 [==============================] - 0s 31ms/step - loss: 0.0344 - accuracy: 1.0000 - val_loss: 4.4974 - val_accuracy: 0.4000\n",
      "Epoch 21/50\n",
      "1/1 [==============================] - 0s 29ms/step - loss: 0.1206 - accuracy: 0.9250 - val_loss: 4.4295 - val_accuracy: 0.4000\n",
      "Epoch 22/50\n",
      "1/1 [==============================] - 0s 29ms/step - loss: 0.0686 - accuracy: 1.0000 - val_loss: 4.3946 - val_accuracy: 0.4000\n",
      "Epoch 23/50\n",
      "1/1 [==============================] - 0s 31ms/step - loss: 0.1180 - accuracy: 0.9500 - val_loss: 4.4294 - val_accuracy: 0.4000\n",
      "Epoch 24/50\n",
      "1/1 [==============================] - 0s 32ms/step - loss: 0.0291 - accuracy: 1.0000 - val_loss: 4.3305 - val_accuracy: 0.4000\n",
      "Epoch 25/50\n",
      "1/1 [==============================] - 0s 29ms/step - loss: 0.0513 - accuracy: 0.9750 - val_loss: 4.2191 - val_accuracy: 0.4000\n",
      "Epoch 26/50\n",
      "1/1 [==============================] - 0s 32ms/step - loss: 0.0374 - accuracy: 1.0000 - val_loss: 4.1049 - val_accuracy: 0.4000\n",
      "Epoch 27/50\n",
      "1/1 [==============================] - 0s 32ms/step - loss: 0.1055 - accuracy: 0.9750 - val_loss: 4.0634 - val_accuracy: 0.4000\n",
      "Epoch 28/50\n",
      "1/1 [==============================] - 0s 32ms/step - loss: 0.1049 - accuracy: 0.9500 - val_loss: 4.0040 - val_accuracy: 0.4000\n",
      "Epoch 29/50\n",
      "1/1 [==============================] - 0s 31ms/step - loss: 0.0611 - accuracy: 0.9750 - val_loss: 3.9762 - val_accuracy: 0.4000\n",
      "Epoch 30/50\n",
      "1/1 [==============================] - 0s 34ms/step - loss: 0.0265 - accuracy: 1.0000 - val_loss: 3.9371 - val_accuracy: 0.5000\n",
      "Epoch 31/50\n",
      "1/1 [==============================] - 0s 36ms/step - loss: 0.0892 - accuracy: 0.9750 - val_loss: 3.8705 - val_accuracy: 0.5000\n",
      "Epoch 32/50\n",
      "1/1 [==============================] - 0s 34ms/step - loss: 0.0237 - accuracy: 1.0000 - val_loss: 3.8126 - val_accuracy: 0.5000\n",
      "Epoch 33/50\n",
      "1/1 [==============================] - 0s 34ms/step - loss: 0.0552 - accuracy: 1.0000 - val_loss: 3.8068 - val_accuracy: 0.5000\n",
      "Epoch 34/50\n",
      "1/1 [==============================] - 0s 33ms/step - loss: 0.0181 - accuracy: 1.0000 - val_loss: 3.7989 - val_accuracy: 0.5000\n",
      "Epoch 35/50\n",
      "1/1 [==============================] - 0s 31ms/step - loss: 0.0384 - accuracy: 0.9750 - val_loss: 3.7804 - val_accuracy: 0.5000\n",
      "Epoch 36/50\n",
      "1/1 [==============================] - 0s 31ms/step - loss: 0.0298 - accuracy: 1.0000 - val_loss: 3.7133 - val_accuracy: 0.5000\n",
      "Epoch 37/50\n",
      "1/1 [==============================] - 0s 32ms/step - loss: 0.0076 - accuracy: 1.0000 - val_loss: 3.6389 - val_accuracy: 0.5000\n",
      "Epoch 38/50\n",
      "1/1 [==============================] - 0s 31ms/step - loss: 0.1210 - accuracy: 0.9500 - val_loss: 3.7356 - val_accuracy: 0.5000\n",
      "Epoch 39/50\n",
      "1/1 [==============================] - 0s 31ms/step - loss: 0.1093 - accuracy: 0.9750 - val_loss: 3.7768 - val_accuracy: 0.5000\n",
      "Epoch 40/50\n",
      "1/1 [==============================] - 0s 31ms/step - loss: 0.0290 - accuracy: 0.9750 - val_loss: 3.8560 - val_accuracy: 0.4000\n",
      "Epoch 41/50\n",
      "1/1 [==============================] - 0s 30ms/step - loss: 0.0221 - accuracy: 1.0000 - val_loss: 3.9469 - val_accuracy: 0.2000\n",
      "Epoch 42/50\n",
      "1/1 [==============================] - 0s 31ms/step - loss: 0.0703 - accuracy: 0.9750 - val_loss: 4.1427 - val_accuracy: 0.2000\n",
      "Epoch 43/50\n",
      "1/1 [==============================] - 0s 31ms/step - loss: 0.1070 - accuracy: 0.9500 - val_loss: 4.3571 - val_accuracy: 0.3000\n",
      "Epoch 44/50\n",
      "1/1 [==============================] - 0s 32ms/step - loss: 0.0941 - accuracy: 0.9750 - val_loss: 4.5273 - val_accuracy: 0.3000\n",
      "Epoch 45/50\n",
      "1/1 [==============================] - 0s 31ms/step - loss: 0.1087 - accuracy: 0.9250 - val_loss: 4.7222 - val_accuracy: 0.4000\n",
      "Epoch 46/50\n",
      "1/1 [==============================] - 0s 30ms/step - loss: 0.0582 - accuracy: 0.9750 - val_loss: 4.9550 - val_accuracy: 0.4000\n",
      "Epoch 47/50\n",
      "1/1 [==============================] - 0s 30ms/step - loss: 0.1180 - accuracy: 0.9250 - val_loss: 4.9495 - val_accuracy: 0.4000\n",
      "Epoch 48/50\n",
      "1/1 [==============================] - 0s 32ms/step - loss: 0.0594 - accuracy: 0.9500 - val_loss: 4.8947 - val_accuracy: 0.4000\n",
      "Epoch 49/50\n",
      "1/1 [==============================] - 0s 31ms/step - loss: 0.0506 - accuracy: 1.0000 - val_loss: 4.7372 - val_accuracy: 0.4000\n",
      "Epoch 50/50\n",
      "1/1 [==============================] - 0s 32ms/step - loss: 0.0598 - accuracy: 0.9750 - val_loss: 4.5182 - val_accuracy: 0.4000\n"
     ]
    },
    {
     "name": "stdout",
     "output_type": "stream",
     "text": [
      "Timer unit: 1e-09 s\n",
      "\n",
      "Total time: 1.12524 s\n",
      "File: /home/fonzee/grad_school/profiling_1/venv/lib/python3.10/site-packages/keras/utils/traceback_utils.py\n",
      "Function: error_handler at line 59\n",
      "\n",
      "Line #      Hits         Time  Per Hit   % Time  Line Contents\n",
      "==============================================================\n",
      "    59                                               def error_handler(*args, **kwargs):\n",
      "    60        51     200100.0   3923.5      0.0          if not tf.debugging.is_traceback_filtering_enabled():\n",
      "    61                                                       return fn(*args, **kwargs)\n",
      "    62                                           \n",
      "    63        51      15100.0    296.1      0.0          filtered_tb = None\n",
      "    64        51       7500.0    147.1      0.0          try:\n",
      "    65        50 1124993201.0 22499864.0    100.0              return fn(*args, **kwargs)\n",
      "    66                                                   except Exception as e:\n",
      "    67                                                       filtered_tb = _process_traceback_frames(e.__traceback__)\n",
      "    68                                                       # To get the full stack trace, call:\n",
      "    69                                                       # `tf.debugging.disable_traceback_filtering()`\n",
      "    70                                                       raise e.with_traceback(filtered_tb) from None\n",
      "    71                                                   finally:\n",
      "    72        51      28800.0    564.7      0.0              del filtered_tb"
     ]
    }
   ],
   "source": [
    "%lprun -f cnn_model_3.fit cnn_model_3.fit( x_train, y_train, batch_size=batch_size, epochs=50, verbose=1, validation_data=(x_validate, y_validate) )"
   ]
  },
  {
   "cell_type": "code",
   "execution_count": 61,
   "metadata": {},
   "outputs": [
    {
     "name": "stdout",
     "output_type": "stream",
     "text": [
      "1/1 [==============================] - 0s 16ms/step\n"
     ]
    },
    {
     "name": "stderr",
     "output_type": "stream",
     "text": [
      "/home/fonzee/grad_school/profiling_1/venv/lib/python3.10/site-packages/line_profiler/ipython_extension.py:71: UserWarning: Adding a function with a __wrapped__ attribute. You may want to profile the wrapped function by adding predict.__wrapped__ instead.\n",
      "  profile = LineProfiler(*funcs)\n"
     ]
    },
    {
     "name": "stdout",
     "output_type": "stream",
     "text": [
      "Timer unit: 1e-09 s\n",
      "\n",
      "Total time: 0.0524411 s\n",
      "File: /home/fonzee/grad_school/profiling_1/venv/lib/python3.10/site-packages/keras/utils/traceback_utils.py\n",
      "Function: error_handler at line 59\n",
      "\n",
      "Line #      Hits         Time  Per Hit   % Time  Line Contents\n",
      "==============================================================\n",
      "    59                                               def error_handler(*args, **kwargs):\n",
      "    60         1       6800.0   6800.0      0.0          if not tf.debugging.is_traceback_filtering_enabled():\n",
      "    61                                                       return fn(*args, **kwargs)\n",
      "    62                                           \n",
      "    63         1        100.0    100.0      0.0          filtered_tb = None\n",
      "    64         1        100.0    100.0      0.0          try:\n",
      "    65         1   52433600.0 52433600.0    100.0              return fn(*args, **kwargs)\n",
      "    66                                                   except Exception as e:\n",
      "    67                                                       filtered_tb = _process_traceback_frames(e.__traceback__)\n",
      "    68                                                       # To get the full stack trace, call:\n",
      "    69                                                       # `tf.debugging.disable_traceback_filtering()`\n",
      "    70                                                       raise e.with_traceback(filtered_tb) from None\n",
      "    71                                                   finally:\n",
      "    72         1        500.0    500.0      0.0              del filtered_tb"
     ]
    }
   ],
   "source": [
    "%lprun -f cnn_model_3.predict cnn_model_3.predict(x_test)"
   ]
  },
  {
   "cell_type": "code",
   "execution_count": 64,
   "metadata": {},
   "outputs": [
    {
     "name": "stdout",
     "output_type": "stream",
     "text": [
      "584 µs ± 853 ns per loop (mean ± std. dev. of 7 runs, 1,000 loops each)\n",
      "275 µs ± 1.94 µs per loop (mean ± std. dev. of 7 runs, 1,000 loops each)\n",
      "304 µs ± 1.69 µs per loop (mean ± std. dev. of 7 runs, 1,000 loops each)\n",
      "585 µs ± 2.69 µs per loop (mean ± std. dev. of 7 runs, 1,000 loops each)\n",
      "302 µs ± 3.26 µs per loop (mean ± std. dev. of 7 runs, 1,000 loops each)\n",
      "580 µs ± 6.27 µs per loop (mean ± std. dev. of 7 runs, 1,000 loops each)\n",
      "305 µs ± 1.18 µs per loop (mean ± std. dev. of 7 runs, 1,000 loops each)\n",
      "212 µs ± 1.37 µs per loop (mean ± std. dev. of 7 runs, 1,000 loops each)\n",
      "405 µs ± 1.27 µs per loop (mean ± std. dev. of 7 runs, 1,000 loops each)\n",
      "300 µs ± 890 ns per loop (mean ± std. dev. of 7 runs, 1,000 loops each)\n",
      "404 µs ± 721 ns per loop (mean ± std. dev. of 7 runs, 1,000 loops each)\n"
     ]
    }
   ],
   "source": [
    "%timeit Conv2D(32, kernel_size=3, activation='relu', input_shape=image_shape, kernel_initializer='he_normal', name='Conv2D-1')\n",
    "%timeit MaxPooling2D(pool_size=2, name='MaxPool')\n",
    "%timeit Dropout(0.25, name='Dropout-1')\n",
    "%timeit Conv2D(64, kernel_size=3, activation='relu', name='Conv2D-2')\n",
    "%timeit Dropout(0.25, name='Dropout-2')\n",
    "%timeit Conv2D(128, kernel_size=3, activation='relu', name='Conv2D-3')\n",
    "%timeit Dropout(0.4, name='Dropout-3')\n",
    "%timeit Flatten(name='flatten')\n",
    "%timeit Dense(128, activation='relu', name='Dense')\n",
    "%timeit Dropout(0.4, name='Dropout')\n",
    "%timeit Dense(10, activation='softmax', name='Output')"
   ]
  },
  {
   "cell_type": "code",
   "execution_count": 66,
   "metadata": {},
   "outputs": [],
   "source": [
    "%load_ext memory_profiler"
   ]
  },
  {
   "cell_type": "code",
   "execution_count": 67,
   "metadata": {},
   "outputs": [
    {
     "name": "stdout",
     "output_type": "stream",
     "text": [
      "peak memory: 4472.33 MiB, increment: 0.00 MiB\n",
      "peak memory: 4435.11 MiB, increment: 0.00 MiB\n",
      "peak memory: 4435.11 MiB, increment: 0.00 MiB\n",
      "peak memory: 4435.32 MiB, increment: 0.00 MiB\n",
      "peak memory: 4435.32 MiB, increment: 0.00 MiB\n",
      "peak memory: 4435.32 MiB, increment: 0.00 MiB\n",
      "peak memory: 4435.32 MiB, increment: 0.00 MiB\n",
      "peak memory: 4435.32 MiB, increment: 0.00 MiB\n",
      "peak memory: 4435.36 MiB, increment: 0.04 MiB\n",
      "peak memory: 4435.36 MiB, increment: 0.00 MiB\n",
      "peak memory: 4435.36 MiB, increment: 0.00 MiB\n"
     ]
    }
   ],
   "source": [
    "%memit Conv2D(32, kernel_size=3, activation='relu', input_shape=image_shape, kernel_initializer='he_normal', name='Conv2D-1')\n",
    "%memit MaxPooling2D(pool_size=2, name='MaxPool')\n",
    "%memit Dropout(0.25, name='Dropout-1')\n",
    "%memit Conv2D(64, kernel_size=3, activation='relu', name='Conv2D-2')\n",
    "%memit Dropout(0.25, name='Dropout-2')\n",
    "%memit Conv2D(128, kernel_size=3, activation='relu', name='Conv2D-3')\n",
    "%memit Dropout(0.4, name='Dropout-3')\n",
    "%memit Flatten(name='flatten')\n",
    "%memit Dense(128, activation='relu', name='Dense')\n",
    "%memit Dropout(0.4, name='Dropout')\n",
    "%memit Dense(10, activation='softmax', name='Output')"
   ]
  },
  {
   "cell_type": "code",
   "execution_count": null,
   "metadata": {},
   "outputs": [],
   "source": []
  }
 ],
 "metadata": {
  "kernelspec": {
   "display_name": "venv",
   "language": "python",
   "name": "python3"
  },
  "language_info": {
   "codemirror_mode": {
    "name": "ipython",
    "version": 3
   },
   "file_extension": ".py",
   "mimetype": "text/x-python",
   "name": "python",
   "nbconvert_exporter": "python",
   "pygments_lexer": "ipython3",
   "version": "3.10.6"
  },
  "orig_nbformat": 4,
  "vscode": {
   "interpreter": {
    "hash": "e80fdaf8e8623e71148aefe8a2fa032ff1dadbc0b2cb15a380fde3756a2db3ec"
   }
  }
 },
 "nbformat": 4,
 "nbformat_minor": 2
}
