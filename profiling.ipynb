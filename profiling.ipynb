{
 "cells": [
  {
   "cell_type": "code",
   "execution_count": 1,
   "metadata": {},
   "outputs": [
    {
     "name": "stderr",
     "output_type": "stream",
     "text": [
      "2023-02-11 01:25:59.935403: I tensorflow/core/platform/cpu_feature_guard.cc:193] This TensorFlow binary is optimized with oneAPI Deep Neural Network Library (oneDNN) to use the following CPU instructions in performance-critical operations:  AVX2 AVX512F AVX512_VNNI FMA\n",
      "To enable them in other operations, rebuild TensorFlow with the appropriate compiler flags.\n",
      "2023-02-11 01:26:00.151161: I tensorflow/core/util/port.cc:104] oneDNN custom operations are on. You may see slightly different numerical results due to floating-point round-off errors from different computation orders. To turn them off, set the environment variable `TF_ENABLE_ONEDNN_OPTS=0`.\n",
      "2023-02-11 01:26:01.140870: W tensorflow/compiler/xla/stream_executor/platform/default/dso_loader.cc:64] Could not load dynamic library 'libnvinfer.so.7'; dlerror: libnvinfer.so.7: cannot open shared object file: No such file or directory; LD_LIBRARY_PATH: /usr/local/cuda/include:/usr/local/cuda/lib64::/usr/local/cuda/extras/CUPTI/lib64\n",
      "2023-02-11 01:26:01.140969: W tensorflow/compiler/xla/stream_executor/platform/default/dso_loader.cc:64] Could not load dynamic library 'libnvinfer_plugin.so.7'; dlerror: libnvinfer_plugin.so.7: cannot open shared object file: No such file or directory; LD_LIBRARY_PATH: /usr/local/cuda/include:/usr/local/cuda/lib64::/usr/local/cuda/extras/CUPTI/lib64\n",
      "2023-02-11 01:26:01.140977: W tensorflow/compiler/tf2tensorrt/utils/py_utils.cc:38] TF-TRT Warning: Cannot dlopen some TensorRT libraries. If you would like to use Nvidia GPU with TensorRT, please make sure the missing libraries mentioned above are installed properly.\n"
     ]
    }
   ],
   "source": [
    "from keras.layers import Conv2D, MaxPooling2D, Dense, Flatten, Dropout\n",
    "\n",
    "def to_profile():\n",
    "    Conv2D(32, kernel_size=3, activation='relu', input_shape=(28, 28, 1), kernel_initializer='he_normal', name='Conv2D-1')\n",
    "    MaxPooling2D(pool_size=2, name='MaxPool')\n",
    "    Dropout(0.25, name='Dropout-1')\n",
    "    Conv2D(64, kernel_size=3, activation='relu', name='Conv2D-2')\n",
    "    Dropout(0.25, name='Dropout-2')\n",
    "    Conv2D(128, kernel_size=3, activation='relu', name='Conv2D-3')\n",
    "    Dropout(0.4, name='Dropout-3')\n",
    "    Flatten(name='flatten')\n",
    "    Dense(128, activation='relu', name='Dense')\n",
    "    Dropout(0.4, name='Dropout')\n",
    "    Dense(10, activation='softmax', name='Output')"
   ]
  },
  {
   "cell_type": "code",
   "execution_count": 2,
   "metadata": {},
   "outputs": [],
   "source": [
    "%load_ext line_profiler"
   ]
  },
  {
   "cell_type": "code",
   "execution_count": 3,
   "metadata": {},
   "outputs": [
    {
     "name": "stdout",
     "output_type": "stream",
     "text": [
      "Timer unit: 1e-06 s\n",
      "\n",
      "Total time: 0.0343031 s\n",
      "File: /tmp/ipykernel_1339/2063558768.py\n",
      "Function: to_profile at line 3\n",
      "\n",
      "Line #      Hits         Time  Per Hit   % Time  Line Contents\n",
      "==============================================================\n",
      "     3                                           def to_profile():\n",
      "     4         1      20528.4  20528.4     59.8      Conv2D(32, kernel_size=3, activation='relu', input_shape=(28, 28, 1), kernel_initializer='he_normal', name='Conv2D-1')\n",
      "     5         1        982.6    982.6      2.9      MaxPooling2D(pool_size=2, name='MaxPool')\n",
      "     6         1       1400.7   1400.7      4.1      Dropout(0.25, name='Dropout-1')\n",
      "     7         1       2695.2   2695.2      7.9      Conv2D(64, kernel_size=3, activation='relu', name='Conv2D-2')\n",
      "     8         1        674.9    674.9      2.0      Dropout(0.25, name='Dropout-2')\n",
      "     9         1       1342.9   1342.9      3.9      Conv2D(128, kernel_size=3, activation='relu', name='Conv2D-3')\n",
      "    10         1        876.7    876.7      2.6      Dropout(0.4, name='Dropout-3')\n",
      "    11         1        648.6    648.6      1.9      Flatten(name='flatten')\n",
      "    12         1       3541.7   3541.7     10.3      Dense(128, activation='relu', name='Dense')\n",
      "    13         1        718.3    718.3      2.1      Dropout(0.4, name='Dropout')\n",
      "    14         1        893.1    893.1      2.6      Dense(10, activation='softmax', name='Output')"
     ]
    }
   ],
   "source": [
    "image_shape = (28, 28, 1)\n",
    "%lprun -u 1e-06 -f to_profile to_profile()"
   ]
  },
  {
   "cell_type": "code",
   "execution_count": 4,
   "metadata": {},
   "outputs": [
    {
     "name": "stdout",
     "output_type": "stream",
     "text": [
      "Conv2D: base: 3.97MiB, peak: 5.94MiB, increment: 1.96MiB\n",
      "MaxPool: base: 2.96MiB, peak: 3.55MiB, increment: 0.60MiB\n",
      "Dropout: base: 2.77MiB, peak: 3.41MiB, increment: 0.64MiB\n",
      "Conv2D: base: 3.22MiB, peak: 5.18MiB, increment: 1.96MiB\n",
      "Dropout: base: 4.75MiB, peak: 5.42MiB, increment: 0.67MiB\n",
      "Conv2D: base: 2.91MiB, peak: 4.87MiB, increment: 1.96MiB\n",
      "Dropout: base: 2.52MiB, peak: 3.19MiB, increment: 0.67MiB\n",
      "Flatten: base: 1.70MiB, peak: 2.73MiB, increment: 1.03MiB\n",
      "Dense: base: 2.53MiB, peak: 4.17MiB, increment: 1.64MiB\n",
      "Dropout: base: 2.25MiB, peak: 2.92MiB, increment: 0.67MiB\n",
      "Dense: base: 2.84MiB, peak: 4.48MiB, increment: 1.64MiB\n"
     ]
    }
   ],
   "source": [
    "import tracemalloc\n",
    "\n",
    "def mem_profile():\n",
    "    tracemalloc.start()\n",
    "    _ = Conv2D(32, kernel_size=3, activation='relu', input_shape=(28, 28, 1), kernel_initializer='he_normal', name='Conv2D-1')\n",
    "    base, peak = tracemalloc.get_traced_memory()\n",
    "    base /= 1024 * 2\n",
    "    peak /= 1024 * 2\n",
    "    print(f'Conv2D: base: {base:.2f}MiB, peak: {peak:.2f}MiB, increment: {peak - base:.2f}MiB')\n",
    "    tracemalloc.clear_traces()\n",
    "\n",
    "    _ = MaxPooling2D(pool_size=2, name='MaxPool')\n",
    "    base, peak = tracemalloc.get_traced_memory()\n",
    "    base /= 1024 * 2\n",
    "    peak /= 1024 * 2\n",
    "    print(f'MaxPool: base: {base:.2f}MiB, peak: {peak:.2f}MiB, increment: {peak - base:.2f}MiB')\n",
    "    tracemalloc.clear_traces()\n",
    "\n",
    "    _ = Dropout(0.25, name='Dropout-1')\n",
    "    base, peak = tracemalloc.get_traced_memory()\n",
    "    base /= 1024 * 2\n",
    "    peak /= 1024 * 2\n",
    "    print(f'Dropout: base: {base:.2f}MiB, peak: {peak:.2f}MiB, increment: {peak - base:.2f}MiB')\n",
    "    tracemalloc.clear_traces()\n",
    "\n",
    "    _ = Conv2D(64, kernel_size=3, activation='relu', name='Conv2D-2')\n",
    "    base, peak = tracemalloc.get_traced_memory()\n",
    "    base /= 1024 * 2\n",
    "    peak /= 1024 * 2\n",
    "    print(f'Conv2D: base: {base:.2f}MiB, peak: {peak:.2f}MiB, increment: {peak - base:.2f}MiB')\n",
    "    tracemalloc.clear_traces()\n",
    "    \n",
    "    _ = Dropout(0.25, name='Dropout-2')\n",
    "    base, peak = tracemalloc.get_traced_memory()\n",
    "    base /= 1024 * 2\n",
    "    peak /= 1024 * 2\n",
    "    print(f'Dropout: base: {base:.2f}MiB, peak: {peak:.2f}MiB, increment: {peak - base:.2f}MiB')\n",
    "    tracemalloc.clear_traces()\n",
    "    \n",
    "    _ = Conv2D(128, kernel_size=3, activation='relu', name='Conv2D-3')\n",
    "    base, peak = tracemalloc.get_traced_memory()\n",
    "    base /= 1024 * 2\n",
    "    peak /= 1024 * 2\n",
    "    print(f'Conv2D: base: {base:.2f}MiB, peak: {peak:.2f}MiB, increment: {peak - base:.2f}MiB')\n",
    "    tracemalloc.clear_traces()\n",
    "    \n",
    "    _ = Dropout(0.4, name='Dropout-3')\n",
    "    base, peak = tracemalloc.get_traced_memory()\n",
    "    base /= 1024 * 2\n",
    "    peak /= 1024 * 2\n",
    "    print(f'Dropout: base: {base:.2f}MiB, peak: {peak:.2f}MiB, increment: {peak - base:.2f}MiB')\n",
    "    tracemalloc.clear_traces()\n",
    "\n",
    "    _ = Flatten(name='flatten')\n",
    "    base, peak = tracemalloc.get_traced_memory()\n",
    "    base /= 1024 * 2\n",
    "    peak /= 1024 * 2\n",
    "    print(f'Flatten: base: {base:.2f}MiB, peak: {peak:.2f}MiB, increment: {peak - base:.2f}MiB')\n",
    "    tracemalloc.clear_traces()\n",
    "\n",
    "    _ = Dense(128, activation='relu', name='Dense')\n",
    "    base, peak = tracemalloc.get_traced_memory()\n",
    "    base /= 1024 * 2\n",
    "    peak /= 1024 * 2\n",
    "    print(f'Dense: base: {base:.2f}MiB, peak: {peak:.2f}MiB, increment: {peak - base:.2f}MiB')\n",
    "    tracemalloc.clear_traces()\n",
    "\n",
    "    _ = Dropout(0.4, name='Dropout')\n",
    "    base, peak = tracemalloc.get_traced_memory()\n",
    "    base /= 1024 * 2\n",
    "    peak /= 1024 * 2\n",
    "    print(f'Dropout: base: {base:.2f}MiB, peak: {peak:.2f}MiB, increment: {peak - base:.2f}MiB')\n",
    "    tracemalloc.clear_traces()\n",
    "    \n",
    "    _ = Dense(10, activation='softmax', name='Output')\n",
    "    base, peak = tracemalloc.get_traced_memory()\n",
    "    base /= 1024 * 2\n",
    "    peak /= 1024 * 2\n",
    "    print(f'Dense: base: {base:.2f}MiB, peak: {peak:.2f}MiB, increment: {peak - base:.2f}MiB')\n",
    "    tracemalloc.stop()\n",
    "\n",
    "mem_profile()"
   ]
  }
 ],
 "metadata": {
  "kernelspec": {
   "display_name": "venv",
   "language": "python",
   "name": "python3"
  },
  "language_info": {
   "codemirror_mode": {
    "name": "ipython",
    "version": 3
   },
   "file_extension": ".py",
   "mimetype": "text/x-python",
   "name": "python",
   "nbconvert_exporter": "python",
   "pygments_lexer": "ipython3",
   "version": "3.10.6"
  },
  "orig_nbformat": 4,
  "vscode": {
   "interpreter": {
    "hash": "e80fdaf8e8623e71148aefe8a2fa032ff1dadbc0b2cb15a380fde3756a2db3ec"
   }
  }
 },
 "nbformat": 4,
 "nbformat_minor": 2
}
